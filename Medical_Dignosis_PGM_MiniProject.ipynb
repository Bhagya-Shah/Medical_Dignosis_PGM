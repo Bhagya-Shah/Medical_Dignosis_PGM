{
  "nbformat": 4,
  "nbformat_minor": 0,
  "metadata": {
    "colab": {
      "provenance": []
    },
    "kernelspec": {
      "name": "python3",
      "display_name": "Python 3"
    },
    "language_info": {
      "name": "python"
    },
    "widgets": {
      "application/vnd.jupyter.widget-state+json": {
        "8ca97e16459648c3b6056b540b430e93": {
          "model_module": "@jupyter-widgets/controls",
          "model_name": "HBoxModel",
          "model_module_version": "1.5.0",
          "state": {
            "_dom_classes": [],
            "_model_module": "@jupyter-widgets/controls",
            "_model_module_version": "1.5.0",
            "_model_name": "HBoxModel",
            "_view_count": null,
            "_view_module": "@jupyter-widgets/controls",
            "_view_module_version": "1.5.0",
            "_view_name": "HBoxView",
            "box_style": "",
            "children": [
              "IPY_MODEL_2ac64476653a41b285d6aa14237df636",
              "IPY_MODEL_d5ea50342145405f9ef9e4a091306633",
              "IPY_MODEL_2b8d7d2932164bb3aa621191fc259a97"
            ],
            "layout": "IPY_MODEL_bcbacfad9d9a41baab0e5f750411d1c6"
          }
        },
        "2ac64476653a41b285d6aa14237df636": {
          "model_module": "@jupyter-widgets/controls",
          "model_name": "HTMLModel",
          "model_module_version": "1.5.0",
          "state": {
            "_dom_classes": [],
            "_model_module": "@jupyter-widgets/controls",
            "_model_module_version": "1.5.0",
            "_model_name": "HTMLModel",
            "_view_count": null,
            "_view_module": "@jupyter-widgets/controls",
            "_view_module_version": "1.5.0",
            "_view_name": "HTMLView",
            "description": "",
            "description_tooltip": null,
            "layout": "IPY_MODEL_40f28488db3a43e9a66c7035e19e4881",
            "placeholder": "​",
            "style": "IPY_MODEL_b2792bc949fe4f72b7131342e0b65214",
            "value": "Generating for node: BloodPressure: 100%"
          }
        },
        "d5ea50342145405f9ef9e4a091306633": {
          "model_module": "@jupyter-widgets/controls",
          "model_name": "FloatProgressModel",
          "model_module_version": "1.5.0",
          "state": {
            "_dom_classes": [],
            "_model_module": "@jupyter-widgets/controls",
            "_model_module_version": "1.5.0",
            "_model_name": "FloatProgressModel",
            "_view_count": null,
            "_view_module": "@jupyter-widgets/controls",
            "_view_module_version": "1.5.0",
            "_view_name": "ProgressView",
            "bar_style": "success",
            "description": "",
            "description_tooltip": null,
            "layout": "IPY_MODEL_768a02b5feac4a45984f9aa64ea1e8f1",
            "max": 9,
            "min": 0,
            "orientation": "horizontal",
            "style": "IPY_MODEL_2ba0913715d44e0f998eef3248b97fa8",
            "value": 9
          }
        },
        "2b8d7d2932164bb3aa621191fc259a97": {
          "model_module": "@jupyter-widgets/controls",
          "model_name": "HTMLModel",
          "model_module_version": "1.5.0",
          "state": {
            "_dom_classes": [],
            "_model_module": "@jupyter-widgets/controls",
            "_model_module_version": "1.5.0",
            "_model_name": "HTMLModel",
            "_view_count": null,
            "_view_module": "@jupyter-widgets/controls",
            "_view_module_version": "1.5.0",
            "_view_name": "HTMLView",
            "description": "",
            "description_tooltip": null,
            "layout": "IPY_MODEL_96868af565b14d52943a6e861c9bf80b",
            "placeholder": "​",
            "style": "IPY_MODEL_d0f5398b4288480a8a9e3de8044d8b17",
            "value": " 9/9 [00:00&lt;00:00, 49.34it/s]"
          }
        },
        "bcbacfad9d9a41baab0e5f750411d1c6": {
          "model_module": "@jupyter-widgets/base",
          "model_name": "LayoutModel",
          "model_module_version": "1.2.0",
          "state": {
            "_model_module": "@jupyter-widgets/base",
            "_model_module_version": "1.2.0",
            "_model_name": "LayoutModel",
            "_view_count": null,
            "_view_module": "@jupyter-widgets/base",
            "_view_module_version": "1.2.0",
            "_view_name": "LayoutView",
            "align_content": null,
            "align_items": null,
            "align_self": null,
            "border": null,
            "bottom": null,
            "display": null,
            "flex": null,
            "flex_flow": null,
            "grid_area": null,
            "grid_auto_columns": null,
            "grid_auto_flow": null,
            "grid_auto_rows": null,
            "grid_column": null,
            "grid_gap": null,
            "grid_row": null,
            "grid_template_areas": null,
            "grid_template_columns": null,
            "grid_template_rows": null,
            "height": null,
            "justify_content": null,
            "justify_items": null,
            "left": null,
            "margin": null,
            "max_height": null,
            "max_width": null,
            "min_height": null,
            "min_width": null,
            "object_fit": null,
            "object_position": null,
            "order": null,
            "overflow": null,
            "overflow_x": null,
            "overflow_y": null,
            "padding": null,
            "right": null,
            "top": null,
            "visibility": null,
            "width": null
          }
        },
        "40f28488db3a43e9a66c7035e19e4881": {
          "model_module": "@jupyter-widgets/base",
          "model_name": "LayoutModel",
          "model_module_version": "1.2.0",
          "state": {
            "_model_module": "@jupyter-widgets/base",
            "_model_module_version": "1.2.0",
            "_model_name": "LayoutModel",
            "_view_count": null,
            "_view_module": "@jupyter-widgets/base",
            "_view_module_version": "1.2.0",
            "_view_name": "LayoutView",
            "align_content": null,
            "align_items": null,
            "align_self": null,
            "border": null,
            "bottom": null,
            "display": null,
            "flex": null,
            "flex_flow": null,
            "grid_area": null,
            "grid_auto_columns": null,
            "grid_auto_flow": null,
            "grid_auto_rows": null,
            "grid_column": null,
            "grid_gap": null,
            "grid_row": null,
            "grid_template_areas": null,
            "grid_template_columns": null,
            "grid_template_rows": null,
            "height": null,
            "justify_content": null,
            "justify_items": null,
            "left": null,
            "margin": null,
            "max_height": null,
            "max_width": null,
            "min_height": null,
            "min_width": null,
            "object_fit": null,
            "object_position": null,
            "order": null,
            "overflow": null,
            "overflow_x": null,
            "overflow_y": null,
            "padding": null,
            "right": null,
            "top": null,
            "visibility": null,
            "width": null
          }
        },
        "b2792bc949fe4f72b7131342e0b65214": {
          "model_module": "@jupyter-widgets/controls",
          "model_name": "DescriptionStyleModel",
          "model_module_version": "1.5.0",
          "state": {
            "_model_module": "@jupyter-widgets/controls",
            "_model_module_version": "1.5.0",
            "_model_name": "DescriptionStyleModel",
            "_view_count": null,
            "_view_module": "@jupyter-widgets/base",
            "_view_module_version": "1.2.0",
            "_view_name": "StyleView",
            "description_width": ""
          }
        },
        "768a02b5feac4a45984f9aa64ea1e8f1": {
          "model_module": "@jupyter-widgets/base",
          "model_name": "LayoutModel",
          "model_module_version": "1.2.0",
          "state": {
            "_model_module": "@jupyter-widgets/base",
            "_model_module_version": "1.2.0",
            "_model_name": "LayoutModel",
            "_view_count": null,
            "_view_module": "@jupyter-widgets/base",
            "_view_module_version": "1.2.0",
            "_view_name": "LayoutView",
            "align_content": null,
            "align_items": null,
            "align_self": null,
            "border": null,
            "bottom": null,
            "display": null,
            "flex": null,
            "flex_flow": null,
            "grid_area": null,
            "grid_auto_columns": null,
            "grid_auto_flow": null,
            "grid_auto_rows": null,
            "grid_column": null,
            "grid_gap": null,
            "grid_row": null,
            "grid_template_areas": null,
            "grid_template_columns": null,
            "grid_template_rows": null,
            "height": null,
            "justify_content": null,
            "justify_items": null,
            "left": null,
            "margin": null,
            "max_height": null,
            "max_width": null,
            "min_height": null,
            "min_width": null,
            "object_fit": null,
            "object_position": null,
            "order": null,
            "overflow": null,
            "overflow_x": null,
            "overflow_y": null,
            "padding": null,
            "right": null,
            "top": null,
            "visibility": null,
            "width": null
          }
        },
        "2ba0913715d44e0f998eef3248b97fa8": {
          "model_module": "@jupyter-widgets/controls",
          "model_name": "ProgressStyleModel",
          "model_module_version": "1.5.0",
          "state": {
            "_model_module": "@jupyter-widgets/controls",
            "_model_module_version": "1.5.0",
            "_model_name": "ProgressStyleModel",
            "_view_count": null,
            "_view_module": "@jupyter-widgets/base",
            "_view_module_version": "1.2.0",
            "_view_name": "StyleView",
            "bar_color": null,
            "description_width": ""
          }
        },
        "96868af565b14d52943a6e861c9bf80b": {
          "model_module": "@jupyter-widgets/base",
          "model_name": "LayoutModel",
          "model_module_version": "1.2.0",
          "state": {
            "_model_module": "@jupyter-widgets/base",
            "_model_module_version": "1.2.0",
            "_model_name": "LayoutModel",
            "_view_count": null,
            "_view_module": "@jupyter-widgets/base",
            "_view_module_version": "1.2.0",
            "_view_name": "LayoutView",
            "align_content": null,
            "align_items": null,
            "align_self": null,
            "border": null,
            "bottom": null,
            "display": null,
            "flex": null,
            "flex_flow": null,
            "grid_area": null,
            "grid_auto_columns": null,
            "grid_auto_flow": null,
            "grid_auto_rows": null,
            "grid_column": null,
            "grid_gap": null,
            "grid_row": null,
            "grid_template_areas": null,
            "grid_template_columns": null,
            "grid_template_rows": null,
            "height": null,
            "justify_content": null,
            "justify_items": null,
            "left": null,
            "margin": null,
            "max_height": null,
            "max_width": null,
            "min_height": null,
            "min_width": null,
            "object_fit": null,
            "object_position": null,
            "order": null,
            "overflow": null,
            "overflow_x": null,
            "overflow_y": null,
            "padding": null,
            "right": null,
            "top": null,
            "visibility": null,
            "width": null
          }
        },
        "d0f5398b4288480a8a9e3de8044d8b17": {
          "model_module": "@jupyter-widgets/controls",
          "model_name": "DescriptionStyleModel",
          "model_module_version": "1.5.0",
          "state": {
            "_model_module": "@jupyter-widgets/controls",
            "_model_module_version": "1.5.0",
            "_model_name": "DescriptionStyleModel",
            "_view_count": null,
            "_view_module": "@jupyter-widgets/base",
            "_view_module_version": "1.2.0",
            "_view_name": "StyleView",
            "description_width": ""
          }
        },
        "1e78d3e012404b279aab305db74be1b2": {
          "model_module": "@jupyter-widgets/controls",
          "model_name": "HBoxModel",
          "model_module_version": "1.5.0",
          "state": {
            "_dom_classes": [],
            "_model_module": "@jupyter-widgets/controls",
            "_model_module_version": "1.5.0",
            "_model_name": "HBoxModel",
            "_view_count": null,
            "_view_module": "@jupyter-widgets/controls",
            "_view_module_version": "1.5.0",
            "_view_name": "HBoxView",
            "box_style": "",
            "children": [
              "IPY_MODEL_1b2f36f973c047329170ad2a638a4767",
              "IPY_MODEL_c7998d043fb0456ea47b05cc64d8040c",
              "IPY_MODEL_185b7e0a073b4d8a82d710be32a55bbe"
            ],
            "layout": "IPY_MODEL_e08afca3630d45a6acde094115e04380"
          }
        },
        "1b2f36f973c047329170ad2a638a4767": {
          "model_module": "@jupyter-widgets/controls",
          "model_name": "HTMLModel",
          "model_module_version": "1.5.0",
          "state": {
            "_dom_classes": [],
            "_model_module": "@jupyter-widgets/controls",
            "_model_module_version": "1.5.0",
            "_model_name": "HTMLModel",
            "_view_count": null,
            "_view_module": "@jupyter-widgets/controls",
            "_view_module_version": "1.5.0",
            "_view_name": "HTMLView",
            "description": "",
            "description_tooltip": null,
            "layout": "IPY_MODEL_df8fa967d45e47a4a9c5118cdea2a2cf",
            "placeholder": "​",
            "style": "IPY_MODEL_33469787608b449ba50b82d939d4a8f6",
            "value": "Building tree: 100%"
          }
        },
        "c7998d043fb0456ea47b05cc64d8040c": {
          "model_module": "@jupyter-widgets/controls",
          "model_name": "FloatProgressModel",
          "model_module_version": "1.5.0",
          "state": {
            "_dom_classes": [],
            "_model_module": "@jupyter-widgets/controls",
            "_model_module_version": "1.5.0",
            "_model_name": "FloatProgressModel",
            "_view_count": null,
            "_view_module": "@jupyter-widgets/controls",
            "_view_module_version": "1.5.0",
            "_view_name": "ProgressView",
            "bar_style": "success",
            "description": "",
            "description_tooltip": null,
            "layout": "IPY_MODEL_0f2233d15d984c47bbaca68f68fa58e7",
            "max": 36,
            "min": 0,
            "orientation": "horizontal",
            "style": "IPY_MODEL_e262fbe1249e4cb3aac35f1c5d4514eb",
            "value": 36
          }
        },
        "185b7e0a073b4d8a82d710be32a55bbe": {
          "model_module": "@jupyter-widgets/controls",
          "model_name": "HTMLModel",
          "model_module_version": "1.5.0",
          "state": {
            "_dom_classes": [],
            "_model_module": "@jupyter-widgets/controls",
            "_model_module_version": "1.5.0",
            "_model_name": "HTMLModel",
            "_view_count": null,
            "_view_module": "@jupyter-widgets/controls",
            "_view_module_version": "1.5.0",
            "_view_name": "HTMLView",
            "description": "",
            "description_tooltip": null,
            "layout": "IPY_MODEL_eb8f4db3f6954143b86b17ccb5e36972",
            "placeholder": "​",
            "style": "IPY_MODEL_54f0221264b44ed3a39482f6bcd76f44",
            "value": " 36/36.0 [00:00&lt;00:00, 157.69it/s]"
          }
        },
        "e08afca3630d45a6acde094115e04380": {
          "model_module": "@jupyter-widgets/base",
          "model_name": "LayoutModel",
          "model_module_version": "1.2.0",
          "state": {
            "_model_module": "@jupyter-widgets/base",
            "_model_module_version": "1.2.0",
            "_model_name": "LayoutModel",
            "_view_count": null,
            "_view_module": "@jupyter-widgets/base",
            "_view_module_version": "1.2.0",
            "_view_name": "LayoutView",
            "align_content": null,
            "align_items": null,
            "align_self": null,
            "border": null,
            "bottom": null,
            "display": null,
            "flex": null,
            "flex_flow": null,
            "grid_area": null,
            "grid_auto_columns": null,
            "grid_auto_flow": null,
            "grid_auto_rows": null,
            "grid_column": null,
            "grid_gap": null,
            "grid_row": null,
            "grid_template_areas": null,
            "grid_template_columns": null,
            "grid_template_rows": null,
            "height": null,
            "justify_content": null,
            "justify_items": null,
            "left": null,
            "margin": null,
            "max_height": null,
            "max_width": null,
            "min_height": null,
            "min_width": null,
            "object_fit": null,
            "object_position": null,
            "order": null,
            "overflow": null,
            "overflow_x": null,
            "overflow_y": null,
            "padding": null,
            "right": null,
            "top": null,
            "visibility": null,
            "width": null
          }
        },
        "df8fa967d45e47a4a9c5118cdea2a2cf": {
          "model_module": "@jupyter-widgets/base",
          "model_name": "LayoutModel",
          "model_module_version": "1.2.0",
          "state": {
            "_model_module": "@jupyter-widgets/base",
            "_model_module_version": "1.2.0",
            "_model_name": "LayoutModel",
            "_view_count": null,
            "_view_module": "@jupyter-widgets/base",
            "_view_module_version": "1.2.0",
            "_view_name": "LayoutView",
            "align_content": null,
            "align_items": null,
            "align_self": null,
            "border": null,
            "bottom": null,
            "display": null,
            "flex": null,
            "flex_flow": null,
            "grid_area": null,
            "grid_auto_columns": null,
            "grid_auto_flow": null,
            "grid_auto_rows": null,
            "grid_column": null,
            "grid_gap": null,
            "grid_row": null,
            "grid_template_areas": null,
            "grid_template_columns": null,
            "grid_template_rows": null,
            "height": null,
            "justify_content": null,
            "justify_items": null,
            "left": null,
            "margin": null,
            "max_height": null,
            "max_width": null,
            "min_height": null,
            "min_width": null,
            "object_fit": null,
            "object_position": null,
            "order": null,
            "overflow": null,
            "overflow_x": null,
            "overflow_y": null,
            "padding": null,
            "right": null,
            "top": null,
            "visibility": null,
            "width": null
          }
        },
        "33469787608b449ba50b82d939d4a8f6": {
          "model_module": "@jupyter-widgets/controls",
          "model_name": "DescriptionStyleModel",
          "model_module_version": "1.5.0",
          "state": {
            "_model_module": "@jupyter-widgets/controls",
            "_model_module_version": "1.5.0",
            "_model_name": "DescriptionStyleModel",
            "_view_count": null,
            "_view_module": "@jupyter-widgets/base",
            "_view_module_version": "1.2.0",
            "_view_name": "StyleView",
            "description_width": ""
          }
        },
        "0f2233d15d984c47bbaca68f68fa58e7": {
          "model_module": "@jupyter-widgets/base",
          "model_name": "LayoutModel",
          "model_module_version": "1.2.0",
          "state": {
            "_model_module": "@jupyter-widgets/base",
            "_model_module_version": "1.2.0",
            "_model_name": "LayoutModel",
            "_view_count": null,
            "_view_module": "@jupyter-widgets/base",
            "_view_module_version": "1.2.0",
            "_view_name": "LayoutView",
            "align_content": null,
            "align_items": null,
            "align_self": null,
            "border": null,
            "bottom": null,
            "display": null,
            "flex": null,
            "flex_flow": null,
            "grid_area": null,
            "grid_auto_columns": null,
            "grid_auto_flow": null,
            "grid_auto_rows": null,
            "grid_column": null,
            "grid_gap": null,
            "grid_row": null,
            "grid_template_areas": null,
            "grid_template_columns": null,
            "grid_template_rows": null,
            "height": null,
            "justify_content": null,
            "justify_items": null,
            "left": null,
            "margin": null,
            "max_height": null,
            "max_width": null,
            "min_height": null,
            "min_width": null,
            "object_fit": null,
            "object_position": null,
            "order": null,
            "overflow": null,
            "overflow_x": null,
            "overflow_y": null,
            "padding": null,
            "right": null,
            "top": null,
            "visibility": null,
            "width": null
          }
        },
        "e262fbe1249e4cb3aac35f1c5d4514eb": {
          "model_module": "@jupyter-widgets/controls",
          "model_name": "ProgressStyleModel",
          "model_module_version": "1.5.0",
          "state": {
            "_model_module": "@jupyter-widgets/controls",
            "_model_module_version": "1.5.0",
            "_model_name": "ProgressStyleModel",
            "_view_count": null,
            "_view_module": "@jupyter-widgets/base",
            "_view_module_version": "1.2.0",
            "_view_name": "StyleView",
            "bar_color": null,
            "description_width": ""
          }
        },
        "eb8f4db3f6954143b86b17ccb5e36972": {
          "model_module": "@jupyter-widgets/base",
          "model_name": "LayoutModel",
          "model_module_version": "1.2.0",
          "state": {
            "_model_module": "@jupyter-widgets/base",
            "_model_module_version": "1.2.0",
            "_model_name": "LayoutModel",
            "_view_count": null,
            "_view_module": "@jupyter-widgets/base",
            "_view_module_version": "1.2.0",
            "_view_name": "LayoutView",
            "align_content": null,
            "align_items": null,
            "align_self": null,
            "border": null,
            "bottom": null,
            "display": null,
            "flex": null,
            "flex_flow": null,
            "grid_area": null,
            "grid_auto_columns": null,
            "grid_auto_flow": null,
            "grid_auto_rows": null,
            "grid_column": null,
            "grid_gap": null,
            "grid_row": null,
            "grid_template_areas": null,
            "grid_template_columns": null,
            "grid_template_rows": null,
            "height": null,
            "justify_content": null,
            "justify_items": null,
            "left": null,
            "margin": null,
            "max_height": null,
            "max_width": null,
            "min_height": null,
            "min_width": null,
            "object_fit": null,
            "object_position": null,
            "order": null,
            "overflow": null,
            "overflow_x": null,
            "overflow_y": null,
            "padding": null,
            "right": null,
            "top": null,
            "visibility": null,
            "width": null
          }
        },
        "54f0221264b44ed3a39482f6bcd76f44": {
          "model_module": "@jupyter-widgets/controls",
          "model_name": "DescriptionStyleModel",
          "model_module_version": "1.5.0",
          "state": {
            "_model_module": "@jupyter-widgets/controls",
            "_model_module_version": "1.5.0",
            "_model_name": "DescriptionStyleModel",
            "_view_count": null,
            "_view_module": "@jupyter-widgets/base",
            "_view_module_version": "1.2.0",
            "_view_name": "StyleView",
            "description_width": ""
          }
        },
        "c1f4f061ed53411b9a8fe59b878aa698": {
          "model_module": "@jupyter-widgets/controls",
          "model_name": "HBoxModel",
          "model_module_version": "1.5.0",
          "state": {
            "_dom_classes": [],
            "_model_module": "@jupyter-widgets/controls",
            "_model_module_version": "1.5.0",
            "_model_name": "HBoxModel",
            "_view_count": null,
            "_view_module": "@jupyter-widgets/controls",
            "_view_module_version": "1.5.0",
            "_view_name": "HBoxView",
            "box_style": "",
            "children": [
              "IPY_MODEL_234b2434d198489ebcf0a83bec6460c1",
              "IPY_MODEL_ba453f7a864343f189e8dac72ced374a",
              "IPY_MODEL_2ba9f01d1d724a72b507419c90911865"
            ],
            "layout": "IPY_MODEL_7bdb312e28c64e6c8fca0809952d97d4"
          }
        },
        "234b2434d198489ebcf0a83bec6460c1": {
          "model_module": "@jupyter-widgets/controls",
          "model_name": "HTMLModel",
          "model_module_version": "1.5.0",
          "state": {
            "_dom_classes": [],
            "_model_module": "@jupyter-widgets/controls",
            "_model_module_version": "1.5.0",
            "_model_name": "HTMLModel",
            "_view_count": null,
            "_view_module": "@jupyter-widgets/controls",
            "_view_module_version": "1.5.0",
            "_view_name": "HTMLView",
            "description": "",
            "description_tooltip": null,
            "layout": "IPY_MODEL_d60e77c613dc42e7ad644b15cf9af364",
            "placeholder": "​",
            "style": "IPY_MODEL_25243208fc284535a66afa74c75f45a0",
            "value": "Building tree: 100%"
          }
        },
        "ba453f7a864343f189e8dac72ced374a": {
          "model_module": "@jupyter-widgets/controls",
          "model_name": "FloatProgressModel",
          "model_module_version": "1.5.0",
          "state": {
            "_dom_classes": [],
            "_model_module": "@jupyter-widgets/controls",
            "_model_module_version": "1.5.0",
            "_model_name": "FloatProgressModel",
            "_view_count": null,
            "_view_module": "@jupyter-widgets/controls",
            "_view_module_version": "1.5.0",
            "_view_name": "ProgressView",
            "bar_style": "success",
            "description": "",
            "description_tooltip": null,
            "layout": "IPY_MODEL_878fb24b737543509e1313ae1eb604b8",
            "max": 36,
            "min": 0,
            "orientation": "horizontal",
            "style": "IPY_MODEL_b6d914a708c4402d8b02b729db57ce27",
            "value": 36
          }
        },
        "2ba9f01d1d724a72b507419c90911865": {
          "model_module": "@jupyter-widgets/controls",
          "model_name": "HTMLModel",
          "model_module_version": "1.5.0",
          "state": {
            "_dom_classes": [],
            "_model_module": "@jupyter-widgets/controls",
            "_model_module_version": "1.5.0",
            "_model_name": "HTMLModel",
            "_view_count": null,
            "_view_module": "@jupyter-widgets/controls",
            "_view_module_version": "1.5.0",
            "_view_name": "HTMLView",
            "description": "",
            "description_tooltip": null,
            "layout": "IPY_MODEL_856a4f3d1c304d46ae1f2a2723dcb71c",
            "placeholder": "​",
            "style": "IPY_MODEL_b80115847dd74004886b0d408523d219",
            "value": " 36/36.0 [00:00&lt;00:00, 156.38it/s]"
          }
        },
        "7bdb312e28c64e6c8fca0809952d97d4": {
          "model_module": "@jupyter-widgets/base",
          "model_name": "LayoutModel",
          "model_module_version": "1.2.0",
          "state": {
            "_model_module": "@jupyter-widgets/base",
            "_model_module_version": "1.2.0",
            "_model_name": "LayoutModel",
            "_view_count": null,
            "_view_module": "@jupyter-widgets/base",
            "_view_module_version": "1.2.0",
            "_view_name": "LayoutView",
            "align_content": null,
            "align_items": null,
            "align_self": null,
            "border": null,
            "bottom": null,
            "display": null,
            "flex": null,
            "flex_flow": null,
            "grid_area": null,
            "grid_auto_columns": null,
            "grid_auto_flow": null,
            "grid_auto_rows": null,
            "grid_column": null,
            "grid_gap": null,
            "grid_row": null,
            "grid_template_areas": null,
            "grid_template_columns": null,
            "grid_template_rows": null,
            "height": null,
            "justify_content": null,
            "justify_items": null,
            "left": null,
            "margin": null,
            "max_height": null,
            "max_width": null,
            "min_height": null,
            "min_width": null,
            "object_fit": null,
            "object_position": null,
            "order": null,
            "overflow": null,
            "overflow_x": null,
            "overflow_y": null,
            "padding": null,
            "right": null,
            "top": null,
            "visibility": null,
            "width": null
          }
        },
        "d60e77c613dc42e7ad644b15cf9af364": {
          "model_module": "@jupyter-widgets/base",
          "model_name": "LayoutModel",
          "model_module_version": "1.2.0",
          "state": {
            "_model_module": "@jupyter-widgets/base",
            "_model_module_version": "1.2.0",
            "_model_name": "LayoutModel",
            "_view_count": null,
            "_view_module": "@jupyter-widgets/base",
            "_view_module_version": "1.2.0",
            "_view_name": "LayoutView",
            "align_content": null,
            "align_items": null,
            "align_self": null,
            "border": null,
            "bottom": null,
            "display": null,
            "flex": null,
            "flex_flow": null,
            "grid_area": null,
            "grid_auto_columns": null,
            "grid_auto_flow": null,
            "grid_auto_rows": null,
            "grid_column": null,
            "grid_gap": null,
            "grid_row": null,
            "grid_template_areas": null,
            "grid_template_columns": null,
            "grid_template_rows": null,
            "height": null,
            "justify_content": null,
            "justify_items": null,
            "left": null,
            "margin": null,
            "max_height": null,
            "max_width": null,
            "min_height": null,
            "min_width": null,
            "object_fit": null,
            "object_position": null,
            "order": null,
            "overflow": null,
            "overflow_x": null,
            "overflow_y": null,
            "padding": null,
            "right": null,
            "top": null,
            "visibility": null,
            "width": null
          }
        },
        "25243208fc284535a66afa74c75f45a0": {
          "model_module": "@jupyter-widgets/controls",
          "model_name": "DescriptionStyleModel",
          "model_module_version": "1.5.0",
          "state": {
            "_model_module": "@jupyter-widgets/controls",
            "_model_module_version": "1.5.0",
            "_model_name": "DescriptionStyleModel",
            "_view_count": null,
            "_view_module": "@jupyter-widgets/base",
            "_view_module_version": "1.2.0",
            "_view_name": "StyleView",
            "description_width": ""
          }
        },
        "878fb24b737543509e1313ae1eb604b8": {
          "model_module": "@jupyter-widgets/base",
          "model_name": "LayoutModel",
          "model_module_version": "1.2.0",
          "state": {
            "_model_module": "@jupyter-widgets/base",
            "_model_module_version": "1.2.0",
            "_model_name": "LayoutModel",
            "_view_count": null,
            "_view_module": "@jupyter-widgets/base",
            "_view_module_version": "1.2.0",
            "_view_name": "LayoutView",
            "align_content": null,
            "align_items": null,
            "align_self": null,
            "border": null,
            "bottom": null,
            "display": null,
            "flex": null,
            "flex_flow": null,
            "grid_area": null,
            "grid_auto_columns": null,
            "grid_auto_flow": null,
            "grid_auto_rows": null,
            "grid_column": null,
            "grid_gap": null,
            "grid_row": null,
            "grid_template_areas": null,
            "grid_template_columns": null,
            "grid_template_rows": null,
            "height": null,
            "justify_content": null,
            "justify_items": null,
            "left": null,
            "margin": null,
            "max_height": null,
            "max_width": null,
            "min_height": null,
            "min_width": null,
            "object_fit": null,
            "object_position": null,
            "order": null,
            "overflow": null,
            "overflow_x": null,
            "overflow_y": null,
            "padding": null,
            "right": null,
            "top": null,
            "visibility": null,
            "width": null
          }
        },
        "b6d914a708c4402d8b02b729db57ce27": {
          "model_module": "@jupyter-widgets/controls",
          "model_name": "ProgressStyleModel",
          "model_module_version": "1.5.0",
          "state": {
            "_model_module": "@jupyter-widgets/controls",
            "_model_module_version": "1.5.0",
            "_model_name": "ProgressStyleModel",
            "_view_count": null,
            "_view_module": "@jupyter-widgets/base",
            "_view_module_version": "1.2.0",
            "_view_name": "StyleView",
            "bar_color": null,
            "description_width": ""
          }
        },
        "856a4f3d1c304d46ae1f2a2723dcb71c": {
          "model_module": "@jupyter-widgets/base",
          "model_name": "LayoutModel",
          "model_module_version": "1.2.0",
          "state": {
            "_model_module": "@jupyter-widgets/base",
            "_model_module_version": "1.2.0",
            "_model_name": "LayoutModel",
            "_view_count": null,
            "_view_module": "@jupyter-widgets/base",
            "_view_module_version": "1.2.0",
            "_view_name": "LayoutView",
            "align_content": null,
            "align_items": null,
            "align_self": null,
            "border": null,
            "bottom": null,
            "display": null,
            "flex": null,
            "flex_flow": null,
            "grid_area": null,
            "grid_auto_columns": null,
            "grid_auto_flow": null,
            "grid_auto_rows": null,
            "grid_column": null,
            "grid_gap": null,
            "grid_row": null,
            "grid_template_areas": null,
            "grid_template_columns": null,
            "grid_template_rows": null,
            "height": null,
            "justify_content": null,
            "justify_items": null,
            "left": null,
            "margin": null,
            "max_height": null,
            "max_width": null,
            "min_height": null,
            "min_width": null,
            "object_fit": null,
            "object_position": null,
            "order": null,
            "overflow": null,
            "overflow_x": null,
            "overflow_y": null,
            "padding": null,
            "right": null,
            "top": null,
            "visibility": null,
            "width": null
          }
        },
        "b80115847dd74004886b0d408523d219": {
          "model_module": "@jupyter-widgets/controls",
          "model_name": "DescriptionStyleModel",
          "model_module_version": "1.5.0",
          "state": {
            "_model_module": "@jupyter-widgets/controls",
            "_model_module_version": "1.5.0",
            "_model_name": "DescriptionStyleModel",
            "_view_count": null,
            "_view_module": "@jupyter-widgets/base",
            "_view_module_version": "1.2.0",
            "_view_name": "StyleView",
            "description_width": ""
          }
        }
      }
    }
  },
  "cells": [
    {
      "cell_type": "code",
      "execution_count": null,
      "metadata": {
        "id": "YwA37oP-xx2k"
      },
      "outputs": [],
      "source": [
        "import pandas as pd\n",
        "import numpy as np\n",
        "import matplotlib.pyplot as plt\n",
        "import statistics as stats\n",
        "import seaborn as sns\n",
        "from sklearn.model_selection import train_test_split "
      ]
    },
    {
      "cell_type": "code",
      "source": [
        "from google.colab import drive\n",
        "drive.mount('/content/drive')"
      ],
      "metadata": {
        "colab": {
          "base_uri": "https://localhost:8080/"
        },
        "id": "Mw6IelPSTFvA",
        "outputId": "1d55b19b-2ee1-4e13-e2c9-391389cd668f"
      },
      "execution_count": null,
      "outputs": [
        {
          "output_type": "stream",
          "name": "stdout",
          "text": [
            "Drive already mounted at /content/drive; to attempt to forcibly remount, call drive.mount(\"/content/drive\", force_remount=True).\n"
          ]
        }
      ]
    },
    {
      "cell_type": "code",
      "source": [
        "# df = pd.read_csv('/content/drive/MyDrive/PGM MINIPROJECT/diabetes.csv')"
      ],
      "metadata": {
        "id": "PEofmpTfAJKS"
      },
      "execution_count": null,
      "outputs": []
    },
    {
      "cell_type": "markdown",
      "source": [
        "**A brief description about the dataset**\n",
        "* Pregnancies: Number of times pregnant\n",
        "* Glucose: Plasma glucose concentration a 2 hours in an oral glucose tolerance test\n",
        "* BloodPressure: Diastolic blood pressure (mm Hg)\n",
        "* SkinThickness: Triceps skin fold thickness (mm)\n",
        "* Insulin: 2-Hour serum insulin (mu U/ml)\n",
        "* BMI: Body mass index (weight in kg/(height in m)^2)\n",
        "* DiabetesPedigreeFunction: Diabetes pedigree function\n",
        "* Age: Age (years)\n",
        "* Outcome: Class variable (0 or 1)"
      ],
      "metadata": {
        "id": "xK7WTrHlgFsX"
      }
    },
    {
      "cell_type": "code",
      "source": [
        "df"
      ],
      "metadata": {
        "colab": {
          "base_uri": "https://localhost:8080/",
          "height": 424
        },
        "id": "_8WoOkj3yUD8",
        "outputId": "46219cbe-823f-4b4f-8116-c0babd1a6915"
      },
      "execution_count": null,
      "outputs": [
        {
          "output_type": "execute_result",
          "data": {
            "text/plain": [
              "     Pregnancies  Glucose  BloodPressure  SkinThickness  Insulin   BMI  \\\n",
              "0              6      148             72             35        0  33.6   \n",
              "1              1       85             66             29        0  26.6   \n",
              "2              8      183             64              0        0  23.3   \n",
              "3              1       89             66             23       94  28.1   \n",
              "4              0      137             40             35      168  43.1   \n",
              "..           ...      ...            ...            ...      ...   ...   \n",
              "763           10      101             76             48      180  32.9   \n",
              "764            2      122             70             27        0  36.8   \n",
              "765            5      121             72             23      112  26.2   \n",
              "766            1      126             60              0        0  30.1   \n",
              "767            1       93             70             31        0  30.4   \n",
              "\n",
              "     DiabetesPedigreeFunction  Age  Outcome  \n",
              "0                       0.627   50        1  \n",
              "1                       0.351   31        0  \n",
              "2                       0.672   32        1  \n",
              "3                       0.167   21        0  \n",
              "4                       2.288   33        1  \n",
              "..                        ...  ...      ...  \n",
              "763                     0.171   63        0  \n",
              "764                     0.340   27        0  \n",
              "765                     0.245   30        0  \n",
              "766                     0.349   47        1  \n",
              "767                     0.315   23        0  \n",
              "\n",
              "[768 rows x 9 columns]"
            ],
            "text/html": [
              "\n",
              "  <div id=\"df-2e9bb073-9b09-4aed-9c01-cc58f29e39ea\">\n",
              "    <div class=\"colab-df-container\">\n",
              "      <div>\n",
              "<style scoped>\n",
              "    .dataframe tbody tr th:only-of-type {\n",
              "        vertical-align: middle;\n",
              "    }\n",
              "\n",
              "    .dataframe tbody tr th {\n",
              "        vertical-align: top;\n",
              "    }\n",
              "\n",
              "    .dataframe thead th {\n",
              "        text-align: right;\n",
              "    }\n",
              "</style>\n",
              "<table border=\"1\" class=\"dataframe\">\n",
              "  <thead>\n",
              "    <tr style=\"text-align: right;\">\n",
              "      <th></th>\n",
              "      <th>Pregnancies</th>\n",
              "      <th>Glucose</th>\n",
              "      <th>BloodPressure</th>\n",
              "      <th>SkinThickness</th>\n",
              "      <th>Insulin</th>\n",
              "      <th>BMI</th>\n",
              "      <th>DiabetesPedigreeFunction</th>\n",
              "      <th>Age</th>\n",
              "      <th>Outcome</th>\n",
              "    </tr>\n",
              "  </thead>\n",
              "  <tbody>\n",
              "    <tr>\n",
              "      <th>0</th>\n",
              "      <td>6</td>\n",
              "      <td>148</td>\n",
              "      <td>72</td>\n",
              "      <td>35</td>\n",
              "      <td>0</td>\n",
              "      <td>33.6</td>\n",
              "      <td>0.627</td>\n",
              "      <td>50</td>\n",
              "      <td>1</td>\n",
              "    </tr>\n",
              "    <tr>\n",
              "      <th>1</th>\n",
              "      <td>1</td>\n",
              "      <td>85</td>\n",
              "      <td>66</td>\n",
              "      <td>29</td>\n",
              "      <td>0</td>\n",
              "      <td>26.6</td>\n",
              "      <td>0.351</td>\n",
              "      <td>31</td>\n",
              "      <td>0</td>\n",
              "    </tr>\n",
              "    <tr>\n",
              "      <th>2</th>\n",
              "      <td>8</td>\n",
              "      <td>183</td>\n",
              "      <td>64</td>\n",
              "      <td>0</td>\n",
              "      <td>0</td>\n",
              "      <td>23.3</td>\n",
              "      <td>0.672</td>\n",
              "      <td>32</td>\n",
              "      <td>1</td>\n",
              "    </tr>\n",
              "    <tr>\n",
              "      <th>3</th>\n",
              "      <td>1</td>\n",
              "      <td>89</td>\n",
              "      <td>66</td>\n",
              "      <td>23</td>\n",
              "      <td>94</td>\n",
              "      <td>28.1</td>\n",
              "      <td>0.167</td>\n",
              "      <td>21</td>\n",
              "      <td>0</td>\n",
              "    </tr>\n",
              "    <tr>\n",
              "      <th>4</th>\n",
              "      <td>0</td>\n",
              "      <td>137</td>\n",
              "      <td>40</td>\n",
              "      <td>35</td>\n",
              "      <td>168</td>\n",
              "      <td>43.1</td>\n",
              "      <td>2.288</td>\n",
              "      <td>33</td>\n",
              "      <td>1</td>\n",
              "    </tr>\n",
              "    <tr>\n",
              "      <th>...</th>\n",
              "      <td>...</td>\n",
              "      <td>...</td>\n",
              "      <td>...</td>\n",
              "      <td>...</td>\n",
              "      <td>...</td>\n",
              "      <td>...</td>\n",
              "      <td>...</td>\n",
              "      <td>...</td>\n",
              "      <td>...</td>\n",
              "    </tr>\n",
              "    <tr>\n",
              "      <th>763</th>\n",
              "      <td>10</td>\n",
              "      <td>101</td>\n",
              "      <td>76</td>\n",
              "      <td>48</td>\n",
              "      <td>180</td>\n",
              "      <td>32.9</td>\n",
              "      <td>0.171</td>\n",
              "      <td>63</td>\n",
              "      <td>0</td>\n",
              "    </tr>\n",
              "    <tr>\n",
              "      <th>764</th>\n",
              "      <td>2</td>\n",
              "      <td>122</td>\n",
              "      <td>70</td>\n",
              "      <td>27</td>\n",
              "      <td>0</td>\n",
              "      <td>36.8</td>\n",
              "      <td>0.340</td>\n",
              "      <td>27</td>\n",
              "      <td>0</td>\n",
              "    </tr>\n",
              "    <tr>\n",
              "      <th>765</th>\n",
              "      <td>5</td>\n",
              "      <td>121</td>\n",
              "      <td>72</td>\n",
              "      <td>23</td>\n",
              "      <td>112</td>\n",
              "      <td>26.2</td>\n",
              "      <td>0.245</td>\n",
              "      <td>30</td>\n",
              "      <td>0</td>\n",
              "    </tr>\n",
              "    <tr>\n",
              "      <th>766</th>\n",
              "      <td>1</td>\n",
              "      <td>126</td>\n",
              "      <td>60</td>\n",
              "      <td>0</td>\n",
              "      <td>0</td>\n",
              "      <td>30.1</td>\n",
              "      <td>0.349</td>\n",
              "      <td>47</td>\n",
              "      <td>1</td>\n",
              "    </tr>\n",
              "    <tr>\n",
              "      <th>767</th>\n",
              "      <td>1</td>\n",
              "      <td>93</td>\n",
              "      <td>70</td>\n",
              "      <td>31</td>\n",
              "      <td>0</td>\n",
              "      <td>30.4</td>\n",
              "      <td>0.315</td>\n",
              "      <td>23</td>\n",
              "      <td>0</td>\n",
              "    </tr>\n",
              "  </tbody>\n",
              "</table>\n",
              "<p>768 rows × 9 columns</p>\n",
              "</div>\n",
              "      <button class=\"colab-df-convert\" onclick=\"convertToInteractive('df-2e9bb073-9b09-4aed-9c01-cc58f29e39ea')\"\n",
              "              title=\"Convert this dataframe to an interactive table.\"\n",
              "              style=\"display:none;\">\n",
              "        \n",
              "  <svg xmlns=\"http://www.w3.org/2000/svg\" height=\"24px\"viewBox=\"0 0 24 24\"\n",
              "       width=\"24px\">\n",
              "    <path d=\"M0 0h24v24H0V0z\" fill=\"none\"/>\n",
              "    <path d=\"M18.56 5.44l.94 2.06.94-2.06 2.06-.94-2.06-.94-.94-2.06-.94 2.06-2.06.94zm-11 1L8.5 8.5l.94-2.06 2.06-.94-2.06-.94L8.5 2.5l-.94 2.06-2.06.94zm10 10l.94 2.06.94-2.06 2.06-.94-2.06-.94-.94-2.06-.94 2.06-2.06.94z\"/><path d=\"M17.41 7.96l-1.37-1.37c-.4-.4-.92-.59-1.43-.59-.52 0-1.04.2-1.43.59L10.3 9.45l-7.72 7.72c-.78.78-.78 2.05 0 2.83L4 21.41c.39.39.9.59 1.41.59.51 0 1.02-.2 1.41-.59l7.78-7.78 2.81-2.81c.8-.78.8-2.07 0-2.86zM5.41 20L4 18.59l7.72-7.72 1.47 1.35L5.41 20z\"/>\n",
              "  </svg>\n",
              "      </button>\n",
              "      \n",
              "  <style>\n",
              "    .colab-df-container {\n",
              "      display:flex;\n",
              "      flex-wrap:wrap;\n",
              "      gap: 12px;\n",
              "    }\n",
              "\n",
              "    .colab-df-convert {\n",
              "      background-color: #E8F0FE;\n",
              "      border: none;\n",
              "      border-radius: 50%;\n",
              "      cursor: pointer;\n",
              "      display: none;\n",
              "      fill: #1967D2;\n",
              "      height: 32px;\n",
              "      padding: 0 0 0 0;\n",
              "      width: 32px;\n",
              "    }\n",
              "\n",
              "    .colab-df-convert:hover {\n",
              "      background-color: #E2EBFA;\n",
              "      box-shadow: 0px 1px 2px rgba(60, 64, 67, 0.3), 0px 1px 3px 1px rgba(60, 64, 67, 0.15);\n",
              "      fill: #174EA6;\n",
              "    }\n",
              "\n",
              "    [theme=dark] .colab-df-convert {\n",
              "      background-color: #3B4455;\n",
              "      fill: #D2E3FC;\n",
              "    }\n",
              "\n",
              "    [theme=dark] .colab-df-convert:hover {\n",
              "      background-color: #434B5C;\n",
              "      box-shadow: 0px 1px 3px 1px rgba(0, 0, 0, 0.15);\n",
              "      filter: drop-shadow(0px 1px 2px rgba(0, 0, 0, 0.3));\n",
              "      fill: #FFFFFF;\n",
              "    }\n",
              "  </style>\n",
              "\n",
              "      <script>\n",
              "        const buttonEl =\n",
              "          document.querySelector('#df-2e9bb073-9b09-4aed-9c01-cc58f29e39ea button.colab-df-convert');\n",
              "        buttonEl.style.display =\n",
              "          google.colab.kernel.accessAllowed ? 'block' : 'none';\n",
              "\n",
              "        async function convertToInteractive(key) {\n",
              "          const element = document.querySelector('#df-2e9bb073-9b09-4aed-9c01-cc58f29e39ea');\n",
              "          const dataTable =\n",
              "            await google.colab.kernel.invokeFunction('convertToInteractive',\n",
              "                                                     [key], {});\n",
              "          if (!dataTable) return;\n",
              "\n",
              "          const docLinkHtml = 'Like what you see? Visit the ' +\n",
              "            '<a target=\"_blank\" href=https://colab.research.google.com/notebooks/data_table.ipynb>data table notebook</a>'\n",
              "            + ' to learn more about interactive tables.';\n",
              "          element.innerHTML = '';\n",
              "          dataTable['output_type'] = 'display_data';\n",
              "          await google.colab.output.renderOutput(dataTable, element);\n",
              "          const docLink = document.createElement('div');\n",
              "          docLink.innerHTML = docLinkHtml;\n",
              "          element.appendChild(docLink);\n",
              "        }\n",
              "      </script>\n",
              "    </div>\n",
              "  </div>\n",
              "  "
            ]
          },
          "metadata": {},
          "execution_count": 6
        }
      ]
    },
    {
      "cell_type": "code",
      "source": [
        "df.describe()"
      ],
      "metadata": {
        "colab": {
          "base_uri": "https://localhost:8080/",
          "height": 300
        },
        "id": "PnKmqXCtj3yN",
        "outputId": "8d092a1c-8cfe-4bb3-f85b-7dfd012d0589"
      },
      "execution_count": null,
      "outputs": [
        {
          "output_type": "execute_result",
          "data": {
            "text/plain": [
              "       Pregnancies     Glucose  BloodPressure  SkinThickness     Insulin  \\\n",
              "count   768.000000  768.000000     768.000000     768.000000  768.000000   \n",
              "mean      3.845052  120.894531      69.105469      20.536458   79.799479   \n",
              "std       3.369578   31.972618      19.355807      15.952218  115.244002   \n",
              "min       0.000000    0.000000       0.000000       0.000000    0.000000   \n",
              "25%       1.000000   99.000000      62.000000       0.000000    0.000000   \n",
              "50%       3.000000  117.000000      72.000000      23.000000   30.500000   \n",
              "75%       6.000000  140.250000      80.000000      32.000000  127.250000   \n",
              "max      17.000000  199.000000     122.000000      99.000000  846.000000   \n",
              "\n",
              "              BMI  DiabetesPedigreeFunction         Age     Outcome  \n",
              "count  768.000000                768.000000  768.000000  768.000000  \n",
              "mean    31.992578                  0.471876   33.240885    0.348958  \n",
              "std      7.884160                  0.331329   11.760232    0.476951  \n",
              "min      0.000000                  0.078000   21.000000    0.000000  \n",
              "25%     27.300000                  0.243750   24.000000    0.000000  \n",
              "50%     32.000000                  0.372500   29.000000    0.000000  \n",
              "75%     36.600000                  0.626250   41.000000    1.000000  \n",
              "max     67.100000                  2.420000   81.000000    1.000000  "
            ],
            "text/html": [
              "\n",
              "  <div id=\"df-3add24a7-a08e-45d6-aa44-a2234da03692\">\n",
              "    <div class=\"colab-df-container\">\n",
              "      <div>\n",
              "<style scoped>\n",
              "    .dataframe tbody tr th:only-of-type {\n",
              "        vertical-align: middle;\n",
              "    }\n",
              "\n",
              "    .dataframe tbody tr th {\n",
              "        vertical-align: top;\n",
              "    }\n",
              "\n",
              "    .dataframe thead th {\n",
              "        text-align: right;\n",
              "    }\n",
              "</style>\n",
              "<table border=\"1\" class=\"dataframe\">\n",
              "  <thead>\n",
              "    <tr style=\"text-align: right;\">\n",
              "      <th></th>\n",
              "      <th>Pregnancies</th>\n",
              "      <th>Glucose</th>\n",
              "      <th>BloodPressure</th>\n",
              "      <th>SkinThickness</th>\n",
              "      <th>Insulin</th>\n",
              "      <th>BMI</th>\n",
              "      <th>DiabetesPedigreeFunction</th>\n",
              "      <th>Age</th>\n",
              "      <th>Outcome</th>\n",
              "    </tr>\n",
              "  </thead>\n",
              "  <tbody>\n",
              "    <tr>\n",
              "      <th>count</th>\n",
              "      <td>768.000000</td>\n",
              "      <td>768.000000</td>\n",
              "      <td>768.000000</td>\n",
              "      <td>768.000000</td>\n",
              "      <td>768.000000</td>\n",
              "      <td>768.000000</td>\n",
              "      <td>768.000000</td>\n",
              "      <td>768.000000</td>\n",
              "      <td>768.000000</td>\n",
              "    </tr>\n",
              "    <tr>\n",
              "      <th>mean</th>\n",
              "      <td>3.845052</td>\n",
              "      <td>120.894531</td>\n",
              "      <td>69.105469</td>\n",
              "      <td>20.536458</td>\n",
              "      <td>79.799479</td>\n",
              "      <td>31.992578</td>\n",
              "      <td>0.471876</td>\n",
              "      <td>33.240885</td>\n",
              "      <td>0.348958</td>\n",
              "    </tr>\n",
              "    <tr>\n",
              "      <th>std</th>\n",
              "      <td>3.369578</td>\n",
              "      <td>31.972618</td>\n",
              "      <td>19.355807</td>\n",
              "      <td>15.952218</td>\n",
              "      <td>115.244002</td>\n",
              "      <td>7.884160</td>\n",
              "      <td>0.331329</td>\n",
              "      <td>11.760232</td>\n",
              "      <td>0.476951</td>\n",
              "    </tr>\n",
              "    <tr>\n",
              "      <th>min</th>\n",
              "      <td>0.000000</td>\n",
              "      <td>0.000000</td>\n",
              "      <td>0.000000</td>\n",
              "      <td>0.000000</td>\n",
              "      <td>0.000000</td>\n",
              "      <td>0.000000</td>\n",
              "      <td>0.078000</td>\n",
              "      <td>21.000000</td>\n",
              "      <td>0.000000</td>\n",
              "    </tr>\n",
              "    <tr>\n",
              "      <th>25%</th>\n",
              "      <td>1.000000</td>\n",
              "      <td>99.000000</td>\n",
              "      <td>62.000000</td>\n",
              "      <td>0.000000</td>\n",
              "      <td>0.000000</td>\n",
              "      <td>27.300000</td>\n",
              "      <td>0.243750</td>\n",
              "      <td>24.000000</td>\n",
              "      <td>0.000000</td>\n",
              "    </tr>\n",
              "    <tr>\n",
              "      <th>50%</th>\n",
              "      <td>3.000000</td>\n",
              "      <td>117.000000</td>\n",
              "      <td>72.000000</td>\n",
              "      <td>23.000000</td>\n",
              "      <td>30.500000</td>\n",
              "      <td>32.000000</td>\n",
              "      <td>0.372500</td>\n",
              "      <td>29.000000</td>\n",
              "      <td>0.000000</td>\n",
              "    </tr>\n",
              "    <tr>\n",
              "      <th>75%</th>\n",
              "      <td>6.000000</td>\n",
              "      <td>140.250000</td>\n",
              "      <td>80.000000</td>\n",
              "      <td>32.000000</td>\n",
              "      <td>127.250000</td>\n",
              "      <td>36.600000</td>\n",
              "      <td>0.626250</td>\n",
              "      <td>41.000000</td>\n",
              "      <td>1.000000</td>\n",
              "    </tr>\n",
              "    <tr>\n",
              "      <th>max</th>\n",
              "      <td>17.000000</td>\n",
              "      <td>199.000000</td>\n",
              "      <td>122.000000</td>\n",
              "      <td>99.000000</td>\n",
              "      <td>846.000000</td>\n",
              "      <td>67.100000</td>\n",
              "      <td>2.420000</td>\n",
              "      <td>81.000000</td>\n",
              "      <td>1.000000</td>\n",
              "    </tr>\n",
              "  </tbody>\n",
              "</table>\n",
              "</div>\n",
              "      <button class=\"colab-df-convert\" onclick=\"convertToInteractive('df-3add24a7-a08e-45d6-aa44-a2234da03692')\"\n",
              "              title=\"Convert this dataframe to an interactive table.\"\n",
              "              style=\"display:none;\">\n",
              "        \n",
              "  <svg xmlns=\"http://www.w3.org/2000/svg\" height=\"24px\"viewBox=\"0 0 24 24\"\n",
              "       width=\"24px\">\n",
              "    <path d=\"M0 0h24v24H0V0z\" fill=\"none\"/>\n",
              "    <path d=\"M18.56 5.44l.94 2.06.94-2.06 2.06-.94-2.06-.94-.94-2.06-.94 2.06-2.06.94zm-11 1L8.5 8.5l.94-2.06 2.06-.94-2.06-.94L8.5 2.5l-.94 2.06-2.06.94zm10 10l.94 2.06.94-2.06 2.06-.94-2.06-.94-.94-2.06-.94 2.06-2.06.94z\"/><path d=\"M17.41 7.96l-1.37-1.37c-.4-.4-.92-.59-1.43-.59-.52 0-1.04.2-1.43.59L10.3 9.45l-7.72 7.72c-.78.78-.78 2.05 0 2.83L4 21.41c.39.39.9.59 1.41.59.51 0 1.02-.2 1.41-.59l7.78-7.78 2.81-2.81c.8-.78.8-2.07 0-2.86zM5.41 20L4 18.59l7.72-7.72 1.47 1.35L5.41 20z\"/>\n",
              "  </svg>\n",
              "      </button>\n",
              "      \n",
              "  <style>\n",
              "    .colab-df-container {\n",
              "      display:flex;\n",
              "      flex-wrap:wrap;\n",
              "      gap: 12px;\n",
              "    }\n",
              "\n",
              "    .colab-df-convert {\n",
              "      background-color: #E8F0FE;\n",
              "      border: none;\n",
              "      border-radius: 50%;\n",
              "      cursor: pointer;\n",
              "      display: none;\n",
              "      fill: #1967D2;\n",
              "      height: 32px;\n",
              "      padding: 0 0 0 0;\n",
              "      width: 32px;\n",
              "    }\n",
              "\n",
              "    .colab-df-convert:hover {\n",
              "      background-color: #E2EBFA;\n",
              "      box-shadow: 0px 1px 2px rgba(60, 64, 67, 0.3), 0px 1px 3px 1px rgba(60, 64, 67, 0.15);\n",
              "      fill: #174EA6;\n",
              "    }\n",
              "\n",
              "    [theme=dark] .colab-df-convert {\n",
              "      background-color: #3B4455;\n",
              "      fill: #D2E3FC;\n",
              "    }\n",
              "\n",
              "    [theme=dark] .colab-df-convert:hover {\n",
              "      background-color: #434B5C;\n",
              "      box-shadow: 0px 1px 3px 1px rgba(0, 0, 0, 0.15);\n",
              "      filter: drop-shadow(0px 1px 2px rgba(0, 0, 0, 0.3));\n",
              "      fill: #FFFFFF;\n",
              "    }\n",
              "  </style>\n",
              "\n",
              "      <script>\n",
              "        const buttonEl =\n",
              "          document.querySelector('#df-3add24a7-a08e-45d6-aa44-a2234da03692 button.colab-df-convert');\n",
              "        buttonEl.style.display =\n",
              "          google.colab.kernel.accessAllowed ? 'block' : 'none';\n",
              "\n",
              "        async function convertToInteractive(key) {\n",
              "          const element = document.querySelector('#df-3add24a7-a08e-45d6-aa44-a2234da03692');\n",
              "          const dataTable =\n",
              "            await google.colab.kernel.invokeFunction('convertToInteractive',\n",
              "                                                     [key], {});\n",
              "          if (!dataTable) return;\n",
              "\n",
              "          const docLinkHtml = 'Like what you see? Visit the ' +\n",
              "            '<a target=\"_blank\" href=https://colab.research.google.com/notebooks/data_table.ipynb>data table notebook</a>'\n",
              "            + ' to learn more about interactive tables.';\n",
              "          element.innerHTML = '';\n",
              "          dataTable['output_type'] = 'display_data';\n",
              "          await google.colab.output.renderOutput(dataTable, element);\n",
              "          const docLink = document.createElement('div');\n",
              "          docLink.innerHTML = docLinkHtml;\n",
              "          element.appendChild(docLink);\n",
              "        }\n",
              "      </script>\n",
              "    </div>\n",
              "  </div>\n",
              "  "
            ]
          },
          "metadata": {},
          "execution_count": 7
        }
      ]
    },
    {
      "cell_type": "code",
      "source": [
        "df.info()"
      ],
      "metadata": {
        "colab": {
          "base_uri": "https://localhost:8080/"
        },
        "id": "61urIfyyyUdl",
        "outputId": "233262c9-b8ff-487a-dec0-5158e154f009"
      },
      "execution_count": null,
      "outputs": [
        {
          "output_type": "stream",
          "name": "stdout",
          "text": [
            "<class 'pandas.core.frame.DataFrame'>\n",
            "RangeIndex: 768 entries, 0 to 767\n",
            "Data columns (total 9 columns):\n",
            " #   Column                    Non-Null Count  Dtype  \n",
            "---  ------                    --------------  -----  \n",
            " 0   Pregnancies               768 non-null    int64  \n",
            " 1   Glucose                   768 non-null    int64  \n",
            " 2   BloodPressure             768 non-null    int64  \n",
            " 3   SkinThickness             768 non-null    int64  \n",
            " 4   Insulin                   768 non-null    int64  \n",
            " 5   BMI                       768 non-null    float64\n",
            " 6   DiabetesPedigreeFunction  768 non-null    float64\n",
            " 7   Age                       768 non-null    int64  \n",
            " 8   Outcome                   768 non-null    int64  \n",
            "dtypes: float64(2), int64(7)\n",
            "memory usage: 54.1 KB\n"
          ]
        }
      ]
    },
    {
      "cell_type": "code",
      "source": [
        "# getting mean and variance for each column\n",
        "columns = list(df.columns[:-1])\n",
        "d = {}\n",
        "for i in columns:\n",
        "  d[i] = [stats.mean(df[i]),stats.variance(df[i])]\n",
        "print(d)"
      ],
      "metadata": {
        "colab": {
          "base_uri": "https://localhost:8080/"
        },
        "id": "VYAW_0OAyth5",
        "outputId": "915b40a2-8e71-4559-8fee-57a3ccf4f1e1"
      },
      "execution_count": null,
      "outputs": [
        {
          "output_type": "stream",
          "name": "stdout",
          "text": [
            "{'Pregnancies': [3.8450520833333335, 11.354056320621469], 'Glucose': [120.89453125, 1022.2483142519557], 'BloodPressure': [69.10546875, 374.6472712271838], 'SkinThickness': [20.536458333333332, 254.47324532811822], 'Insulin': [79.79947916666667, 13281.180077955236], 'BMI': [31.992578125, 62.15998395738266], 'DiabetesPedigreeFunction': [0.4718763020833333, 0.10977863787313939], 'Age': [33.240885416666664, 138.30304589037374]}\n"
          ]
        }
      ]
    },
    {
      "cell_type": "code",
      "source": [
        "cor = df.corr()"
      ],
      "metadata": {
        "id": "otAwdFhADwgI"
      },
      "execution_count": null,
      "outputs": []
    },
    {
      "cell_type": "code",
      "source": [
        "cor"
      ],
      "metadata": {
        "colab": {
          "base_uri": "https://localhost:8080/",
          "height": 332
        },
        "id": "fQPkBHQOG9yz",
        "outputId": "e3701bf1-a65d-4ecf-db40-0e0e3651b3e8"
      },
      "execution_count": null,
      "outputs": [
        {
          "output_type": "execute_result",
          "data": {
            "text/plain": [
              "                          Pregnancies   Glucose  BloodPressure  SkinThickness  \\\n",
              "Pregnancies                  1.000000  0.129459       0.141282      -0.081672   \n",
              "Glucose                      0.129459  1.000000       0.152590       0.057328   \n",
              "BloodPressure                0.141282  0.152590       1.000000       0.207371   \n",
              "SkinThickness               -0.081672  0.057328       0.207371       1.000000   \n",
              "Insulin                     -0.073535  0.331357       0.088933       0.436783   \n",
              "BMI                          0.017683  0.221071       0.281805       0.392573   \n",
              "DiabetesPedigreeFunction    -0.033523  0.137337       0.041265       0.183928   \n",
              "Age                          0.544341  0.263514       0.239528      -0.113970   \n",
              "Outcome                      0.221898  0.466581       0.065068       0.074752   \n",
              "\n",
              "                           Insulin       BMI  DiabetesPedigreeFunction  \\\n",
              "Pregnancies              -0.073535  0.017683                 -0.033523   \n",
              "Glucose                   0.331357  0.221071                  0.137337   \n",
              "BloodPressure             0.088933  0.281805                  0.041265   \n",
              "SkinThickness             0.436783  0.392573                  0.183928   \n",
              "Insulin                   1.000000  0.197859                  0.185071   \n",
              "BMI                       0.197859  1.000000                  0.140647   \n",
              "DiabetesPedigreeFunction  0.185071  0.140647                  1.000000   \n",
              "Age                      -0.042163  0.036242                  0.033561   \n",
              "Outcome                   0.130548  0.292695                  0.173844   \n",
              "\n",
              "                               Age   Outcome  \n",
              "Pregnancies               0.544341  0.221898  \n",
              "Glucose                   0.263514  0.466581  \n",
              "BloodPressure             0.239528  0.065068  \n",
              "SkinThickness            -0.113970  0.074752  \n",
              "Insulin                  -0.042163  0.130548  \n",
              "BMI                       0.036242  0.292695  \n",
              "DiabetesPedigreeFunction  0.033561  0.173844  \n",
              "Age                       1.000000  0.238356  \n",
              "Outcome                   0.238356  1.000000  "
            ],
            "text/html": [
              "\n",
              "  <div id=\"df-23c22234-a046-4a44-a481-6664badda7ac\">\n",
              "    <div class=\"colab-df-container\">\n",
              "      <div>\n",
              "<style scoped>\n",
              "    .dataframe tbody tr th:only-of-type {\n",
              "        vertical-align: middle;\n",
              "    }\n",
              "\n",
              "    .dataframe tbody tr th {\n",
              "        vertical-align: top;\n",
              "    }\n",
              "\n",
              "    .dataframe thead th {\n",
              "        text-align: right;\n",
              "    }\n",
              "</style>\n",
              "<table border=\"1\" class=\"dataframe\">\n",
              "  <thead>\n",
              "    <tr style=\"text-align: right;\">\n",
              "      <th></th>\n",
              "      <th>Pregnancies</th>\n",
              "      <th>Glucose</th>\n",
              "      <th>BloodPressure</th>\n",
              "      <th>SkinThickness</th>\n",
              "      <th>Insulin</th>\n",
              "      <th>BMI</th>\n",
              "      <th>DiabetesPedigreeFunction</th>\n",
              "      <th>Age</th>\n",
              "      <th>Outcome</th>\n",
              "    </tr>\n",
              "  </thead>\n",
              "  <tbody>\n",
              "    <tr>\n",
              "      <th>Pregnancies</th>\n",
              "      <td>1.000000</td>\n",
              "      <td>0.129459</td>\n",
              "      <td>0.141282</td>\n",
              "      <td>-0.081672</td>\n",
              "      <td>-0.073535</td>\n",
              "      <td>0.017683</td>\n",
              "      <td>-0.033523</td>\n",
              "      <td>0.544341</td>\n",
              "      <td>0.221898</td>\n",
              "    </tr>\n",
              "    <tr>\n",
              "      <th>Glucose</th>\n",
              "      <td>0.129459</td>\n",
              "      <td>1.000000</td>\n",
              "      <td>0.152590</td>\n",
              "      <td>0.057328</td>\n",
              "      <td>0.331357</td>\n",
              "      <td>0.221071</td>\n",
              "      <td>0.137337</td>\n",
              "      <td>0.263514</td>\n",
              "      <td>0.466581</td>\n",
              "    </tr>\n",
              "    <tr>\n",
              "      <th>BloodPressure</th>\n",
              "      <td>0.141282</td>\n",
              "      <td>0.152590</td>\n",
              "      <td>1.000000</td>\n",
              "      <td>0.207371</td>\n",
              "      <td>0.088933</td>\n",
              "      <td>0.281805</td>\n",
              "      <td>0.041265</td>\n",
              "      <td>0.239528</td>\n",
              "      <td>0.065068</td>\n",
              "    </tr>\n",
              "    <tr>\n",
              "      <th>SkinThickness</th>\n",
              "      <td>-0.081672</td>\n",
              "      <td>0.057328</td>\n",
              "      <td>0.207371</td>\n",
              "      <td>1.000000</td>\n",
              "      <td>0.436783</td>\n",
              "      <td>0.392573</td>\n",
              "      <td>0.183928</td>\n",
              "      <td>-0.113970</td>\n",
              "      <td>0.074752</td>\n",
              "    </tr>\n",
              "    <tr>\n",
              "      <th>Insulin</th>\n",
              "      <td>-0.073535</td>\n",
              "      <td>0.331357</td>\n",
              "      <td>0.088933</td>\n",
              "      <td>0.436783</td>\n",
              "      <td>1.000000</td>\n",
              "      <td>0.197859</td>\n",
              "      <td>0.185071</td>\n",
              "      <td>-0.042163</td>\n",
              "      <td>0.130548</td>\n",
              "    </tr>\n",
              "    <tr>\n",
              "      <th>BMI</th>\n",
              "      <td>0.017683</td>\n",
              "      <td>0.221071</td>\n",
              "      <td>0.281805</td>\n",
              "      <td>0.392573</td>\n",
              "      <td>0.197859</td>\n",
              "      <td>1.000000</td>\n",
              "      <td>0.140647</td>\n",
              "      <td>0.036242</td>\n",
              "      <td>0.292695</td>\n",
              "    </tr>\n",
              "    <tr>\n",
              "      <th>DiabetesPedigreeFunction</th>\n",
              "      <td>-0.033523</td>\n",
              "      <td>0.137337</td>\n",
              "      <td>0.041265</td>\n",
              "      <td>0.183928</td>\n",
              "      <td>0.185071</td>\n",
              "      <td>0.140647</td>\n",
              "      <td>1.000000</td>\n",
              "      <td>0.033561</td>\n",
              "      <td>0.173844</td>\n",
              "    </tr>\n",
              "    <tr>\n",
              "      <th>Age</th>\n",
              "      <td>0.544341</td>\n",
              "      <td>0.263514</td>\n",
              "      <td>0.239528</td>\n",
              "      <td>-0.113970</td>\n",
              "      <td>-0.042163</td>\n",
              "      <td>0.036242</td>\n",
              "      <td>0.033561</td>\n",
              "      <td>1.000000</td>\n",
              "      <td>0.238356</td>\n",
              "    </tr>\n",
              "    <tr>\n",
              "      <th>Outcome</th>\n",
              "      <td>0.221898</td>\n",
              "      <td>0.466581</td>\n",
              "      <td>0.065068</td>\n",
              "      <td>0.074752</td>\n",
              "      <td>0.130548</td>\n",
              "      <td>0.292695</td>\n",
              "      <td>0.173844</td>\n",
              "      <td>0.238356</td>\n",
              "      <td>1.000000</td>\n",
              "    </tr>\n",
              "  </tbody>\n",
              "</table>\n",
              "</div>\n",
              "      <button class=\"colab-df-convert\" onclick=\"convertToInteractive('df-23c22234-a046-4a44-a481-6664badda7ac')\"\n",
              "              title=\"Convert this dataframe to an interactive table.\"\n",
              "              style=\"display:none;\">\n",
              "        \n",
              "  <svg xmlns=\"http://www.w3.org/2000/svg\" height=\"24px\"viewBox=\"0 0 24 24\"\n",
              "       width=\"24px\">\n",
              "    <path d=\"M0 0h24v24H0V0z\" fill=\"none\"/>\n",
              "    <path d=\"M18.56 5.44l.94 2.06.94-2.06 2.06-.94-2.06-.94-.94-2.06-.94 2.06-2.06.94zm-11 1L8.5 8.5l.94-2.06 2.06-.94-2.06-.94L8.5 2.5l-.94 2.06-2.06.94zm10 10l.94 2.06.94-2.06 2.06-.94-2.06-.94-.94-2.06-.94 2.06-2.06.94z\"/><path d=\"M17.41 7.96l-1.37-1.37c-.4-.4-.92-.59-1.43-.59-.52 0-1.04.2-1.43.59L10.3 9.45l-7.72 7.72c-.78.78-.78 2.05 0 2.83L4 21.41c.39.39.9.59 1.41.59.51 0 1.02-.2 1.41-.59l7.78-7.78 2.81-2.81c.8-.78.8-2.07 0-2.86zM5.41 20L4 18.59l7.72-7.72 1.47 1.35L5.41 20z\"/>\n",
              "  </svg>\n",
              "      </button>\n",
              "      \n",
              "  <style>\n",
              "    .colab-df-container {\n",
              "      display:flex;\n",
              "      flex-wrap:wrap;\n",
              "      gap: 12px;\n",
              "    }\n",
              "\n",
              "    .colab-df-convert {\n",
              "      background-color: #E8F0FE;\n",
              "      border: none;\n",
              "      border-radius: 50%;\n",
              "      cursor: pointer;\n",
              "      display: none;\n",
              "      fill: #1967D2;\n",
              "      height: 32px;\n",
              "      padding: 0 0 0 0;\n",
              "      width: 32px;\n",
              "    }\n",
              "\n",
              "    .colab-df-convert:hover {\n",
              "      background-color: #E2EBFA;\n",
              "      box-shadow: 0px 1px 2px rgba(60, 64, 67, 0.3), 0px 1px 3px 1px rgba(60, 64, 67, 0.15);\n",
              "      fill: #174EA6;\n",
              "    }\n",
              "\n",
              "    [theme=dark] .colab-df-convert {\n",
              "      background-color: #3B4455;\n",
              "      fill: #D2E3FC;\n",
              "    }\n",
              "\n",
              "    [theme=dark] .colab-df-convert:hover {\n",
              "      background-color: #434B5C;\n",
              "      box-shadow: 0px 1px 3px 1px rgba(0, 0, 0, 0.15);\n",
              "      filter: drop-shadow(0px 1px 2px rgba(0, 0, 0, 0.3));\n",
              "      fill: #FFFFFF;\n",
              "    }\n",
              "  </style>\n",
              "\n",
              "      <script>\n",
              "        const buttonEl =\n",
              "          document.querySelector('#df-23c22234-a046-4a44-a481-6664badda7ac button.colab-df-convert');\n",
              "        buttonEl.style.display =\n",
              "          google.colab.kernel.accessAllowed ? 'block' : 'none';\n",
              "\n",
              "        async function convertToInteractive(key) {\n",
              "          const element = document.querySelector('#df-23c22234-a046-4a44-a481-6664badda7ac');\n",
              "          const dataTable =\n",
              "            await google.colab.kernel.invokeFunction('convertToInteractive',\n",
              "                                                     [key], {});\n",
              "          if (!dataTable) return;\n",
              "\n",
              "          const docLinkHtml = 'Like what you see? Visit the ' +\n",
              "            '<a target=\"_blank\" href=https://colab.research.google.com/notebooks/data_table.ipynb>data table notebook</a>'\n",
              "            + ' to learn more about interactive tables.';\n",
              "          element.innerHTML = '';\n",
              "          dataTable['output_type'] = 'display_data';\n",
              "          await google.colab.output.renderOutput(dataTable, element);\n",
              "          const docLink = document.createElement('div');\n",
              "          docLink.innerHTML = docLinkHtml;\n",
              "          element.appendChild(docLink);\n",
              "        }\n",
              "      </script>\n",
              "    </div>\n",
              "  </div>\n",
              "  "
            ]
          },
          "metadata": {},
          "execution_count": 11
        }
      ]
    },
    {
      "cell_type": "code",
      "source": [
        "sns.heatmap(df.corr())"
      ],
      "metadata": {
        "colab": {
          "base_uri": "https://localhost:8080/",
          "height": 407
        },
        "id": "GGl6wXwP131L",
        "outputId": "8d88b5de-dc66-4ed1-ec40-e104cae44e8f"
      },
      "execution_count": null,
      "outputs": [
        {
          "output_type": "execute_result",
          "data": {
            "text/plain": [
              "<matplotlib.axes._subplots.AxesSubplot at 0x7f6700d9ee80>"
            ]
          },
          "metadata": {},
          "execution_count": 12
        },
        {
          "output_type": "display_data",
          "data": {
            "text/plain": [
              "<Figure size 432x288 with 2 Axes>"
            ],
            "image/png": "[encoded data removed]"
          },
          "metadata": {
            "needs_background": "light"
          }
        }
      ]
    },
    {
      "cell_type": "code",
      "source": [
        "cor['Pregnancies']"
      ],
      "metadata": {
        "id": "-EnJlIhTDj6q",
        "colab": {
          "base_uri": "https://localhost:8080/"
        },
        "outputId": "ae0a8bd8-8ebc-446f-f6b0-b702732dab52"
      },
      "execution_count": null,
      "outputs": [
        {
          "output_type": "execute_result",
          "data": {
            "text/plain": [
              "Pregnancies                 1.000000\n",
              "Glucose                     0.129459\n",
              "BloodPressure               0.141282\n",
              "SkinThickness              -0.081672\n",
              "Insulin                    -0.073535\n",
              "BMI                         0.017683\n",
              "DiabetesPedigreeFunction   -0.033523\n",
              "Age                         0.544341\n",
              "Outcome                     0.221898\n",
              "Name: Pregnancies, dtype: float64"
            ]
          },
          "metadata": {},
          "execution_count": 13
        }
      ]
    },
    {
      "cell_type": "code",
      "source": [
        "max_cor = {}\n",
        "for i in cor:\n",
        "  max = 0\n",
        "  for j in cor[i]:\n",
        "    if(j!=1.000000 and j>max):\n",
        "      max = j\n",
        "      max_cor[i] = max\n",
        "max_cor"
      ],
      "metadata": {
        "colab": {
          "base_uri": "https://localhost:8080/"
        },
        "id": "mHfFffklGKoc",
        "outputId": "dbc7324d-31ac-4562-8d66-066a0d0206eb"
      },
      "execution_count": null,
      "outputs": [
        {
          "output_type": "execute_result",
          "data": {
            "text/plain": [
              "{'Pregnancies': 0.5443412284023392,\n",
              " 'Glucose': 0.46658139830687373,\n",
              " 'BloodPressure': 0.2818052888499109,\n",
              " 'SkinThickness': 0.43678257012001326,\n",
              " 'Insulin': 0.43678257012001326,\n",
              " 'BMI': 0.39257320415903835,\n",
              " 'DiabetesPedigreeFunction': 0.1850709291680993,\n",
              " 'Age': 0.5443412284023392,\n",
              " 'Outcome': 0.46658139830687373}"
            ]
          },
          "metadata": {},
          "execution_count": 14
        }
      ]
    },
    {
      "cell_type": "markdown",
      "source": [
        "**Pre-Processing the data to fit our needs**"
      ],
      "metadata": {
        "id": "r6nqvHb0Vc3L"
      }
    },
    {
      "cell_type": "markdown",
      "source": [
        "* In order to be able to properly use our data , we need to convert some discrete features to categorical features so that we can have fixed number of categories for that column which would be easier for classification .\n",
        "* So we define a preprocessor function to be applied on different columns ."
      ],
      "metadata": {
        "id": "84ojM6EmaIH3"
      }
    },
    {
      "cell_type": "code",
      "source": [
        "def preprocessor(atr):\n",
        "  m = 0\n",
        "  for i in atr:\n",
        "    m = df[i].median()\n",
        "    df[i] = [1 if x>m else 0 for x in df[i]]"
      ],
      "metadata": {
        "id": "1T7sy1lyY44D"
      },
      "execution_count": null,
      "outputs": []
    },
    {
      "cell_type": "code",
      "source": [
        "def preprocessor_2(atr, a, b):\n",
        "  df[atr] = [0 if x<a else 1 if a<=x<b else 2 for x in df[atr]]"
      ],
      "metadata": {
        "id": "dEnxSZE_aqjK"
      },
      "execution_count": null,
      "outputs": []
    },
    {
      "cell_type": "code",
      "source": [
        "a = ['BMI','Insulin','BloodPressure', \"DiabetesPedigreeFunction\"]\n",
        "b = ['Age', 'Glucose', 'SkinThickness', \"Pregnancies\"]"
      ],
      "metadata": {
        "id": "vGo7hKmLZy2J"
      },
      "execution_count": null,
      "outputs": []
    },
    {
      "cell_type": "code",
      "source": [
        "preprocessor_2(\"Age\", 27, 40)\n",
        "preprocessor_2(\"Glucose\", 100, 125)\n",
        "preprocessor_2(\"SkinThickness\", 15, 30)\n",
        "preprocessor_2(\"Pregnancies\", 2, 5)"
      ],
      "metadata": {
        "id": "1hgLhyEBeElW"
      },
      "execution_count": null,
      "outputs": []
    },
    {
      "cell_type": "code",
      "source": [
        "preprocessor(a)"
      ],
      "metadata": {
        "id": "uRD9XRbdZ7qG"
      },
      "execution_count": null,
      "outputs": []
    },
    {
      "cell_type": "code",
      "source": [
        "df"
      ],
      "metadata": {
        "colab": {
          "base_uri": "https://localhost:8080/",
          "height": 424
        },
        "id": "DLCOSI-baD9s",
        "outputId": "e7d2ac4c-16f8-4c6a-f47f-7bfe6aa5d321"
      },
      "execution_count": null,
      "outputs": [
        {
          "output_type": "execute_result",
          "data": {
            "text/plain": [
              "     Pregnancies  Glucose  BloodPressure  SkinThickness  Insulin  BMI  \\\n",
              "0              2        2              0              2        0    1   \n",
              "1              0        0              0              1        0    0   \n",
              "2              2        2              0              0        0    0   \n",
              "3              0        0              0              1        1    0   \n",
              "4              0        2              0              2        1    1   \n",
              "..           ...      ...            ...            ...      ...  ...   \n",
              "763            2        1              1              2        1    1   \n",
              "764            1        1              0              1        0    1   \n",
              "765            2        1              0              1        1    0   \n",
              "766            0        2              0              0        0    0   \n",
              "767            0        0              0              2        0    0   \n",
              "\n",
              "     DiabetesPedigreeFunction  Age  Outcome  \n",
              "0                           1    2        1  \n",
              "1                           0    1        0  \n",
              "2                           1    1        1  \n",
              "3                           0    0        0  \n",
              "4                           1    1        1  \n",
              "..                        ...  ...      ...  \n",
              "763                         0    2        0  \n",
              "764                         0    1        0  \n",
              "765                         0    1        0  \n",
              "766                         0    2        1  \n",
              "767                         0    0        0  \n",
              "\n",
              "[768 rows x 9 columns]"
            ],
            "text/html": [
              "\n",
              "  <div id=\"df-bb02a656-25f5-481d-b9c2-82ac060a17be\">\n",
              "    <div class=\"colab-df-container\">\n",
              "      <div>\n",
              "<style scoped>\n",
              "    .dataframe tbody tr th:only-of-type {\n",
              "        vertical-align: middle;\n",
              "    }\n",
              "\n",
              "    .dataframe tbody tr th {\n",
              "        vertical-align: top;\n",
              "    }\n",
              "\n",
              "    .dataframe thead th {\n",
              "        text-align: right;\n",
              "    }\n",
              "</style>\n",
              "<table border=\"1\" class=\"dataframe\">\n",
              "  <thead>\n",
              "    <tr style=\"text-align: right;\">\n",
              "      <th></th>\n",
              "      <th>Pregnancies</th>\n",
              "      <th>Glucose</th>\n",
              "      <th>BloodPressure</th>\n",
              "      <th>SkinThickness</th>\n",
              "      <th>Insulin</th>\n",
              "      <th>BMI</th>\n",
              "      <th>DiabetesPedigreeFunction</th>\n",
              "      <th>Age</th>\n",
              "      <th>Outcome</th>\n",
              "    </tr>\n",
              "  </thead>\n",
              "  <tbody>\n",
              "    <tr>\n",
              "      <th>0</th>\n",
              "      <td>2</td>\n",
              "      <td>2</td>\n",
              "      <td>0</td>\n",
              "      <td>2</td>\n",
              "      <td>0</td>\n",
              "      <td>1</td>\n",
              "      <td>1</td>\n",
              "      <td>2</td>\n",
              "      <td>1</td>\n",
              "    </tr>\n",
              "    <tr>\n",
              "      <th>1</th>\n",
              "      <td>0</td>\n",
              "      <td>0</td>\n",
              "      <td>0</td>\n",
              "      <td>1</td>\n",
              "      <td>0</td>\n",
              "      <td>0</td>\n",
              "      <td>0</td>\n",
              "      <td>1</td>\n",
              "      <td>0</td>\n",
              "    </tr>\n",
              "    <tr>\n",
              "      <th>2</th>\n",
              "      <td>2</td>\n",
              "      <td>2</td>\n",
              "      <td>0</td>\n",
              "      <td>0</td>\n",
              "      <td>0</td>\n",
              "      <td>0</td>\n",
              "      <td>1</td>\n",
              "      <td>1</td>\n",
              "      <td>1</td>\n",
              "    </tr>\n",
              "    <tr>\n",
              "      <th>3</th>\n",
              "      <td>0</td>\n",
              "      <td>0</td>\n",
              "      <td>0</td>\n",
              "      <td>1</td>\n",
              "      <td>1</td>\n",
              "      <td>0</td>\n",
              "      <td>0</td>\n",
              "      <td>0</td>\n",
              "      <td>0</td>\n",
              "    </tr>\n",
              "    <tr>\n",
              "      <th>4</th>\n",
              "      <td>0</td>\n",
              "      <td>2</td>\n",
              "      <td>0</td>\n",
              "      <td>2</td>\n",
              "      <td>1</td>\n",
              "      <td>1</td>\n",
              "      <td>1</td>\n",
              "      <td>1</td>\n",
              "      <td>1</td>\n",
              "    </tr>\n",
              "    <tr>\n",
              "      <th>...</th>\n",
              "      <td>...</td>\n",
              "      <td>...</td>\n",
              "      <td>...</td>\n",
              "      <td>...</td>\n",
              "      <td>...</td>\n",
              "      <td>...</td>\n",
              "      <td>...</td>\n",
              "      <td>...</td>\n",
              "      <td>...</td>\n",
              "    </tr>\n",
              "    <tr>\n",
              "      <th>763</th>\n",
              "      <td>2</td>\n",
              "      <td>1</td>\n",
              "      <td>1</td>\n",
              "      <td>2</td>\n",
              "      <td>1</td>\n",
              "      <td>1</td>\n",
              "      <td>0</td>\n",
              "      <td>2</td>\n",
              "      <td>0</td>\n",
              "    </tr>\n",
              "    <tr>\n",
              "      <th>764</th>\n",
              "      <td>1</td>\n",
              "      <td>1</td>\n",
              "      <td>0</td>\n",
              "      <td>1</td>\n",
              "      <td>0</td>\n",
              "      <td>1</td>\n",
              "      <td>0</td>\n",
              "      <td>1</td>\n",
              "      <td>0</td>\n",
              "    </tr>\n",
              "    <tr>\n",
              "      <th>765</th>\n",
              "      <td>2</td>\n",
              "      <td>1</td>\n",
              "      <td>0</td>\n",
              "      <td>1</td>\n",
              "      <td>1</td>\n",
              "      <td>0</td>\n",
              "      <td>0</td>\n",
              "      <td>1</td>\n",
              "      <td>0</td>\n",
              "    </tr>\n",
              "    <tr>\n",
              "      <th>766</th>\n",
              "      <td>0</td>\n",
              "      <td>2</td>\n",
              "      <td>0</td>\n",
              "      <td>0</td>\n",
              "      <td>0</td>\n",
              "      <td>0</td>\n",
              "      <td>0</td>\n",
              "      <td>2</td>\n",
              "      <td>1</td>\n",
              "    </tr>\n",
              "    <tr>\n",
              "      <th>767</th>\n",
              "      <td>0</td>\n",
              "      <td>0</td>\n",
              "      <td>0</td>\n",
              "      <td>2</td>\n",
              "      <td>0</td>\n",
              "      <td>0</td>\n",
              "      <td>0</td>\n",
              "      <td>0</td>\n",
              "      <td>0</td>\n",
              "    </tr>\n",
              "  </tbody>\n",
              "</table>\n",
              "<p>768 rows × 9 columns</p>\n",
              "</div>\n",
              "      <button class=\"colab-df-convert\" onclick=\"convertToInteractive('df-bb02a656-25f5-481d-b9c2-82ac060a17be')\"\n",
              "              title=\"Convert this dataframe to an interactive table.\"\n",
              "              style=\"display:none;\">\n",
              "        \n",
              "  <svg xmlns=\"http://www.w3.org/2000/svg\" height=\"24px\"viewBox=\"0 0 24 24\"\n",
              "       width=\"24px\">\n",
              "    <path d=\"M0 0h24v24H0V0z\" fill=\"none\"/>\n",
              "    <path d=\"M18.56 5.44l.94 2.06.94-2.06 2.06-.94-2.06-.94-.94-2.06-.94 2.06-2.06.94zm-11 1L8.5 8.5l.94-2.06 2.06-.94-2.06-.94L8.5 2.5l-.94 2.06-2.06.94zm10 10l.94 2.06.94-2.06 2.06-.94-2.06-.94-.94-2.06-.94 2.06-2.06.94z\"/><path d=\"M17.41 7.96l-1.37-1.37c-.4-.4-.92-.59-1.43-.59-.52 0-1.04.2-1.43.59L10.3 9.45l-7.72 7.72c-.78.78-.78 2.05 0 2.83L4 21.41c.39.39.9.59 1.41.59.51 0 1.02-.2 1.41-.59l7.78-7.78 2.81-2.81c.8-.78.8-2.07 0-2.86zM5.41 20L4 18.59l7.72-7.72 1.47 1.35L5.41 20z\"/>\n",
              "  </svg>\n",
              "      </button>\n",
              "      \n",
              "  <style>\n",
              "    .colab-df-container {\n",
              "      display:flex;\n",
              "      flex-wrap:wrap;\n",
              "      gap: 12px;\n",
              "    }\n",
              "\n",
              "    .colab-df-convert {\n",
              "      background-color: #E8F0FE;\n",
              "      border: none;\n",
              "      border-radius: 50%;\n",
              "      cursor: pointer;\n",
              "      display: none;\n",
              "      fill: #1967D2;\n",
              "      height: 32px;\n",
              "      padding: 0 0 0 0;\n",
              "      width: 32px;\n",
              "    }\n",
              "\n",
              "    .colab-df-convert:hover {\n",
              "      background-color: #E2EBFA;\n",
              "      box-shadow: 0px 1px 2px rgba(60, 64, 67, 0.3), 0px 1px 3px 1px rgba(60, 64, 67, 0.15);\n",
              "      fill: #174EA6;\n",
              "    }\n",
              "\n",
              "    [theme=dark] .colab-df-convert {\n",
              "      background-color: #3B4455;\n",
              "      fill: #D2E3FC;\n",
              "    }\n",
              "\n",
              "    [theme=dark] .colab-df-convert:hover {\n",
              "      background-color: #434B5C;\n",
              "      box-shadow: 0px 1px 3px 1px rgba(0, 0, 0, 0.15);\n",
              "      filter: drop-shadow(0px 1px 2px rgba(0, 0, 0, 0.3));\n",
              "      fill: #FFFFFF;\n",
              "    }\n",
              "  </style>\n",
              "\n",
              "      <script>\n",
              "        const buttonEl =\n",
              "          document.querySelector('#df-bb02a656-25f5-481d-b9c2-82ac060a17be button.colab-df-convert');\n",
              "        buttonEl.style.display =\n",
              "          google.colab.kernel.accessAllowed ? 'block' : 'none';\n",
              "\n",
              "        async function convertToInteractive(key) {\n",
              "          const element = document.querySelector('#df-bb02a656-25f5-481d-b9c2-82ac060a17be');\n",
              "          const dataTable =\n",
              "            await google.colab.kernel.invokeFunction('convertToInteractive',\n",
              "                                                     [key], {});\n",
              "          if (!dataTable) return;\n",
              "\n",
              "          const docLinkHtml = 'Like what you see? Visit the ' +\n",
              "            '<a target=\"_blank\" href=https://colab.research.google.com/notebooks/data_table.ipynb>data table notebook</a>'\n",
              "            + ' to learn more about interactive tables.';\n",
              "          element.innerHTML = '';\n",
              "          dataTable['output_type'] = 'display_data';\n",
              "          await google.colab.output.renderOutput(dataTable, element);\n",
              "          const docLink = document.createElement('div');\n",
              "          docLink.innerHTML = docLinkHtml;\n",
              "          element.appendChild(docLink);\n",
              "        }\n",
              "      </script>\n",
              "    </div>\n",
              "  </div>\n",
              "  "
            ]
          },
          "metadata": {},
          "execution_count": 20
        }
      ]
    },
    {
      "cell_type": "markdown",
      "source": [
        "###Train_Test_Split"
      ],
      "metadata": {
        "id": "Vi4Q93vdYf2O"
      }
    },
    {
      "cell_type": "markdown",
      "source": [
        "Function to get probability of independent nodes"
      ],
      "metadata": {
        "id": "dy8x5VZcIGOP"
      }
    },
    {
      "cell_type": "code",
      "source": [
        "d = {}\n",
        "def get_prob(atr):\n",
        "  l = len(df)\n",
        "  uniq = sorted(df[atr].unique())\n",
        "  p = [round(len(df[df[atr] == x])/l, 4) for x in uniq]\n",
        "  d[atr] = p"
      ],
      "metadata": {
        "id": "7VSNqR09hL54"
      },
      "execution_count": null,
      "outputs": []
    },
    {
      "cell_type": "code",
      "source": [
        "cols = df.columns\n",
        "for i in cols:\n",
        "  get_prob(i)\n",
        "print(d)"
      ],
      "metadata": {
        "colab": {
          "base_uri": "https://localhost:8080/"
        },
        "id": "QRS6M5M5pavi",
        "outputId": "7ee6724c-7ed5-494b-9552-3fa2b154d334"
      },
      "execution_count": null,
      "outputs": [
        {
          "output_type": "stream",
          "name": "stdout",
          "text": [
            "{'Pregnancies': [0.3203, 0.3203, 0.3594], 'Glucose': [0.2565, 0.3385, 0.4049], 'BloodPressure': [0.5456, 0.4544], 'SkinThickness': [0.3464, 0.3086, 0.3451], 'Insulin': [0.5, 0.5], 'BMI': [0.5026, 0.4974], 'DiabetesPedigreeFunction': [0.5, 0.5], 'Age': [0.3906, 0.3398, 0.2695], 'Outcome': [0.651, 0.349]}\n"
          ]
        }
      ]
    },
    {
      "cell_type": "markdown",
      "source": [
        "Functions to get probabilty of a node having one dependency"
      ],
      "metadata": {
        "id": "4Jsjc7MdInGW"
      }
    },
    {
      "cell_type": "code",
      "source": [
        "def dep_prob(atr, dep):\n",
        "  l = len(df)\n",
        "  u1 = sorted(df[atr].unique())\n",
        "  u2 = sorted(df[dep].unique())\n",
        "  p = []\n",
        "  for i in u1:\n",
        "    a = []\n",
        "    for j in u2:\n",
        "      a.append(round(len(df[(df[atr] == i) & (df[dep] == j)])/len(df[df[dep] == j]), 4))\n",
        "    p.append(a)\n",
        "  return p\n",
        "\n",
        "# dep_prob(\"SkinThickness\", \"Age\")"
      ],
      "metadata": {
        "id": "eXwT042F28yp"
      },
      "execution_count": null,
      "outputs": []
    },
    {
      "cell_type": "markdown",
      "source": [
        "Functions to get probabilty of a node having two dependency"
      ],
      "metadata": {
        "id": "P6KleJbzI4ba"
      }
    },
    {
      "cell_type": "code",
      "source": [
        "def dep_prob2(atr, dep1, dep2):\n",
        "  u1 = sorted(df[atr].unique())\n",
        "  u2 = sorted(df[dep1].unique())\n",
        "  u3 = sorted(df[dep2].unique())\n",
        "  p = []\n",
        "  for i in u1:\n",
        "    a = []\n",
        "    for j in u2:\n",
        "      for k in u3:\n",
        "        a.append(round(len(df[(df[atr] == i) & (df[dep1] == j) & (df[dep2] == k)])/len(df[(df[dep1] == j) & (df[dep2] == k)]), 4))\n",
        "    p.append(a)\n",
        "  return p\n",
        "\n",
        "# dep_prob2('Insulin', 'Age', 'DiabetesPedigreeFunction')"
      ],
      "metadata": {
        "id": "IQpAwj4oHRR_"
      },
      "execution_count": null,
      "outputs": []
    },
    {
      "cell_type": "markdown",
      "source": [
        "Functions to get probabilty of a node having four dependency"
      ],
      "metadata": {
        "id": "dtHBxZXaI8iG"
      }
    },
    {
      "cell_type": "code",
      "source": [
        "def dep_prob4(atr, dep1, dep2, dep3, dep4):\n",
        "  u1 = sorted(df[atr].unique())\n",
        "  u2 = sorted(df[dep1].unique())\n",
        "  u3 = sorted(df[dep2].unique())\n",
        "  u4 = sorted(df[dep3].unique())\n",
        "  u5 = sorted(df[dep4].unique())\n",
        "  p = []\n",
        "  for i in u1:\n",
        "    a = []\n",
        "    for j in u2:\n",
        "      for k in u3:\n",
        "        for l in u4:\n",
        "          for m in u5:\n",
        "            a.append(round(len(df[(df[atr] == i) & (df[dep1] == j) & (df[dep2] == k) & (df[dep3] == l) & (df[dep4] == m)])/len(df[(df[dep1] == j) & (df[dep2] == k) & (df[dep3] == l) & (df[dep4] == m)]), 4))\n",
        "    p.append(a)\n",
        "  return p\n",
        "\n",
        "# dep_prob4('BloodPressure', 'BMI', 'Insulin', 'Glucose', 'Outcome')"
      ],
      "metadata": {
        "id": "qP9hf2-rJ0jI"
      },
      "execution_count": null,
      "outputs": []
    },
    {
      "cell_type": "markdown",
      "source": [
        "**Deriving relationships in the dataset**"
      ],
      "metadata": {
        "id": "MMW1Mft7M6cA"
      }
    },
    {
      "cell_type": "markdown",
      "source": [
        "**Relationships in the dataset**\n",
        "\n",
        "* In order to create a Probablistic Graphical Model representing this dataset , we first need to find the relationships in the dataset and the flow of influence that is essential in perspective of the PGM.\n",
        "* After properly understanding the rrelationshis in the dataset , we need to select a representation that best fits the specified dataset and captures the relationships."
      ],
      "metadata": {
        "id": "R_jXy7GyHtFf"
      }
    },
    {
      "cell_type": "code",
      "source": [
        "!pip install networkx"
      ],
      "metadata": {
        "id": "lh5zwghaG1gB",
        "colab": {
          "base_uri": "https://localhost:8080/"
        },
        "outputId": "1a28b75e-85eb-44ad-8457-2fbf4f46f5d2"
      },
      "execution_count": null,
      "outputs": [
        {
          "output_type": "stream",
          "name": "stdout",
          "text": [
            "Looking in indexes: https://pypi.org/simple, https://us-python.pkg.dev/colab-wheels/public/simple/\n",
            "Requirement already satisfied: networkx in /usr/local/lib/python3.8/dist-packages (2.8.8)\n"
          ]
        }
      ]
    },
    {
      "cell_type": "code",
      "source": [
        "!pip install pgmpy"
      ],
      "metadata": {
        "colab": {
          "base_uri": "https://localhost:8080/"
        },
        "id": "XdFtg1dLMKOZ",
        "outputId": "65daee9f-f52a-427e-dca8-5baec77858be"
      },
      "execution_count": null,
      "outputs": [
        {
          "output_type": "stream",
          "name": "stdout",
          "text": [
            "Looking in indexes: https://pypi.org/simple, https://us-python.pkg.dev/colab-wheels/public/simple/\n",
            "Requirement already satisfied: pgmpy in /usr/local/lib/python3.8/dist-packages (0.1.20)\n",
            "Requirement already satisfied: numpy in /usr/local/lib/python3.8/dist-packages (from pgmpy) (1.21.6)\n",
            "Requirement already satisfied: tqdm in /usr/local/lib/python3.8/dist-packages (from pgmpy) (4.64.1)\n",
            "Requirement already satisfied: joblib in /usr/local/lib/python3.8/dist-packages (from pgmpy) (1.2.0)\n",
            "Requirement already satisfied: scikit-learn in /usr/local/lib/python3.8/dist-packages (from pgmpy) (1.0.2)\n",
            "Requirement already satisfied: scipy in /usr/local/lib/python3.8/dist-packages (from pgmpy) (1.7.3)\n",
            "Requirement already satisfied: pandas in /usr/local/lib/python3.8/dist-packages (from pgmpy) (1.3.5)\n",
            "Requirement already satisfied: pyparsing in /usr/local/lib/python3.8/dist-packages (from pgmpy) (3.0.9)\n",
            "Requirement already satisfied: torch in /usr/local/lib/python3.8/dist-packages (from pgmpy) (1.13.0+cu116)\n",
            "Requirement already satisfied: networkx in /usr/local/lib/python3.8/dist-packages (from pgmpy) (2.8.8)\n",
            "Requirement already satisfied: opt-einsum in /usr/local/lib/python3.8/dist-packages (from pgmpy) (3.3.0)\n",
            "Requirement already satisfied: statsmodels in /usr/local/lib/python3.8/dist-packages (from pgmpy) (0.12.2)\n",
            "Requirement already satisfied: python-dateutil>=2.7.3 in /usr/local/lib/python3.8/dist-packages (from pandas->pgmpy) (2.8.2)\n",
            "Requirement already satisfied: pytz>=2017.3 in /usr/local/lib/python3.8/dist-packages (from pandas->pgmpy) (2022.6)\n",
            "Requirement already satisfied: six>=1.5 in /usr/local/lib/python3.8/dist-packages (from python-dateutil>=2.7.3->pandas->pgmpy) (1.15.0)\n",
            "Requirement already satisfied: threadpoolctl>=2.0.0 in /usr/local/lib/python3.8/dist-packages (from scikit-learn->pgmpy) (3.1.0)\n",
            "Requirement already satisfied: patsy>=0.5 in /usr/local/lib/python3.8/dist-packages (from statsmodels->pgmpy) (0.5.3)\n",
            "Requirement already satisfied: typing-extensions in /usr/local/lib/python3.8/dist-packages (from torch->pgmpy) (4.4.0)\n"
          ]
        }
      ]
    },
    {
      "cell_type": "code",
      "source": [
        "df.columns"
      ],
      "metadata": {
        "colab": {
          "base_uri": "https://localhost:8080/"
        },
        "id": "6pbJqYtZ9bBR",
        "outputId": "e40216d5-71c4-47a2-c762-9e786f396ceb"
      },
      "execution_count": null,
      "outputs": [
        {
          "output_type": "execute_result",
          "data": {
            "text/plain": [
              "Index(['Pregnancies', 'Glucose', 'BloodPressure', 'SkinThickness', 'Insulin',\n",
              "       'BMI', 'DiabetesPedigreeFunction', 'Age', 'Outcome'],\n",
              "      dtype='object')"
            ]
          },
          "metadata": {},
          "execution_count": 28
        }
      ]
    },
    {
      "cell_type": "code",
      "source": [
        "from pgmpy.models import BayesianNetwork\n",
        "from pgmpy.factors.discrete import TabularCPD\n",
        "\n",
        "diabetes_model = BayesianNetwork([('Age', 'SkinThickness'), ('Age', 'Pregnancies'), ('Age', 'Insulin'), ('SkinThickness', 'BMI'), ('BMI', 'BloodPressure'), ('DiabetesPedigreeFunction', 'Insulin'), ('Insulin', 'Glucose'), ('Insulin', 'BloodPressure'), ('Glucose', 'Outcome'), ('Glucose', 'BloodPressure'), ('Outcome', 'BloodPressure')])\n",
        "cpd_Age = TabularCPD('Age', 3, [[d['Age'][0]], [d['Age'][1]], [d['Age'][2]]])\n",
        "cpd_PedFunc = TabularCPD('DiabetesPedigreeFunction', 2, [[d['DiabetesPedigreeFunction'][0]], [d['DiabetesPedigreeFunction'][1]]])\n",
        "cpd_SkinThick = TabularCPD('SkinThickness', 3, dep_prob('SkinThickness', 'Age'), ['Age'], [3])\n",
        "cpd_Pregnancies = TabularCPD('Pregnancies', 3, dep_prob('Pregnancies', 'Age'), ['Age'], [3])\n",
        "cpd_BMI = TabularCPD('BMI', 2, dep_prob('BMI', 'SkinThickness'), ['SkinThickness'], [3])\n",
        "cpd_Glucose = TabularCPD('Glucose', 3, dep_prob('Glucose', 'Insulin'), ['Insulin'], [2])\n",
        "cpd_Diabetes = TabularCPD('Outcome', 2, dep_prob('Outcome', 'Glucose'), ['Glucose'], [3])\n",
        "cpd_Insulin = TabularCPD('Insulin', 2, dep_prob2('Insulin', 'Age', 'DiabetesPedigreeFunction'), ['Age', 'DiabetesPedigreeFunction'], [3, 2])\n",
        "cpd_BloodP = TabularCPD('BloodPressure', 2, dep_prob4('BloodPressure', 'BMI', 'Insulin', 'Glucose', 'Outcome'), ['BMI', 'Insulin', 'Glucose', 'Outcome'], [2, 2, 3, 2])"
      ],
      "metadata": {
        "id": "u8IWZjOCofUv"
      },
      "execution_count": null,
      "outputs": []
    },
    {
      "cell_type": "code",
      "source": [
        "diabetes_model.add_cpds(cpd_Age, cpd_PedFunc, cpd_SkinThick, cpd_Pregnancies, cpd_BMI, cpd_Glucose, cpd_Diabetes, cpd_Insulin, cpd_BloodP)"
      ],
      "metadata": {
        "id": "8zWtLEXzZqvw"
      },
      "execution_count": null,
      "outputs": []
    },
    {
      "cell_type": "code",
      "source": [
        "diabetes_model.check_model()"
      ],
      "metadata": {
        "colab": {
          "base_uri": "https://localhost:8080/"
        },
        "id": "E_MxJ5A9aM82",
        "outputId": "8df6929e-f19b-45fc-b429-429266fd0809"
      },
      "execution_count": null,
      "outputs": [
        {
          "output_type": "execute_result",
          "data": {
            "text/plain": [
              "True"
            ]
          },
          "metadata": {},
          "execution_count": 31
        }
      ]
    },
    {
      "cell_type": "code",
      "source": [
        "diabetes_model.edges()"
      ],
      "metadata": {
        "colab": {
          "base_uri": "https://localhost:8080/"
        },
        "id": "nrhFYSgVarwR",
        "outputId": "c5172125-3689-4d18-b623-609608e2d3f3"
      },
      "execution_count": null,
      "outputs": [
        {
          "output_type": "execute_result",
          "data": {
            "text/plain": [
              "OutEdgeView([('Age', 'SkinThickness'), ('Age', 'Pregnancies'), ('Age', 'Insulin'), ('SkinThickness', 'BMI'), ('Insulin', 'Glucose'), ('Insulin', 'BloodPressure'), ('BMI', 'BloodPressure'), ('DiabetesPedigreeFunction', 'Insulin'), ('Glucose', 'Outcome'), ('Glucose', 'BloodPressure'), ('Outcome', 'BloodPressure')])"
            ]
          },
          "metadata": {},
          "execution_count": 32
        }
      ]
    },
    {
      "cell_type": "code",
      "source": [
        "for i in diabetes_model.get_cpds():\n",
        "  print(i)"
      ],
      "metadata": {
        "colab": {
          "base_uri": "https://localhost:8080/"
        },
        "id": "tZXwaUSr9HP1",
        "outputId": "9dba3c75-7348-47cc-deb3-2454db46afdb"
      },
      "execution_count": null,
      "outputs": [
        {
          "output_type": "stream",
          "name": "stdout",
          "text": [
            "+--------+--------+\n",
            "| Age(0) | 0.3906 |\n",
            "+--------+--------+\n",
            "| Age(1) | 0.3398 |\n",
            "+--------+--------+\n",
            "| Age(2) | 0.2695 |\n",
            "+--------+--------+\n",
            "+-----------------------------+-----+\n",
            "| DiabetesPedigreeFunction(0) | 0.5 |\n",
            "+-----------------------------+-----+\n",
            "| DiabetesPedigreeFunction(1) | 0.5 |\n",
            "+-----------------------------+-----+\n",
            "+------------------+--------+--------+--------+\n",
            "| Age              | Age(0) | Age(1) | Age(2) |\n",
            "+------------------+--------+--------+--------+\n",
            "| SkinThickness(0) | 0.2667 | 0.3716 | 0.43   |\n",
            "+------------------+--------+--------+--------+\n",
            "| SkinThickness(1) | 0.4133 | 0.2337 | 0.2512 |\n",
            "+------------------+--------+--------+--------+\n",
            "| SkinThickness(2) | 0.32   | 0.3946 | 0.3188 |\n",
            "+------------------+--------+--------+--------+\n",
            "+----------------+--------+--------+--------+\n",
            "| Age            | Age(0) | Age(1) | Age(2) |\n",
            "+----------------+--------+--------+--------+\n",
            "| Pregnancies(0) | 0.5433 | 0.2184 | 0.1256 |\n",
            "+----------------+--------+--------+--------+\n",
            "| Pregnancies(1) | 0.42   | 0.364  | 0.1208 |\n",
            "+----------------+--------+--------+--------+\n",
            "| Pregnancies(2) | 0.0367 | 0.4176 | 0.7536 |\n",
            "+----------------+--------+--------+--------+\n",
            "+---------------+------------------+------------------+------------------+\n",
            "| SkinThickness | SkinThickness(0) | SkinThickness(1) | SkinThickness(2) |\n",
            "+---------------+------------------+------------------+------------------+\n",
            "| BMI(0)        | 0.6466           | 0.6624           | 0.2151           |\n",
            "+---------------+------------------+------------------+------------------+\n",
            "| BMI(1)        | 0.3534           | 0.3376           | 0.7849           |\n",
            "+---------------+------------------+------------------+------------------+\n",
            "+------------+------------+------------+\n",
            "| Insulin    | Insulin(0) | Insulin(1) |\n",
            "+------------+------------+------------+\n",
            "| Glucose(0) | 0.263      | 0.25       |\n",
            "+------------+------------+------------+\n",
            "| Glucose(1) | 0.3568     | 0.3203     |\n",
            "+------------+------------+------------+\n",
            "| Glucose(2) | 0.3802     | 0.4297     |\n",
            "+------------+------------+------------+\n",
            "+------------+------------+------------+------------+\n",
            "| Glucose    | Glucose(0) | Glucose(1) | Glucose(2) |\n",
            "+------------+------------+------------+------------+\n",
            "| Outcome(0) | 0.9188     | 0.7346     | 0.4116     |\n",
            "+------------+------------+------------+------------+\n",
            "| Outcome(1) | 0.0812     | 0.2654     | 0.5884     |\n",
            "+------------+------------+------------+------------+\n",
            "+--------------------------+-----+-----------------------------+\n",
            "| Age                      | ... | Age(2)                      |\n",
            "+--------------------------+-----+-----------------------------+\n",
            "| DiabetesPedigreeFunction | ... | DiabetesPedigreeFunction(1) |\n",
            "+--------------------------+-----+-----------------------------+\n",
            "| Insulin(0)               | ... | 0.5437                      |\n",
            "+--------------------------+-----+-----------------------------+\n",
            "| Insulin(1)               | ... | 0.4563                      |\n",
            "+--------------------------+-----+-----------------------------+\n",
            "+------------------+------------+-----+------------+------------+\n",
            "| BMI              | BMI(0)     | ... | BMI(1)     | BMI(1)     |\n",
            "+------------------+------------+-----+------------+------------+\n",
            "| Insulin          | Insulin(0) | ... | Insulin(1) | Insulin(1) |\n",
            "+------------------+------------+-----+------------+------------+\n",
            "| Glucose          | Glucose(0) | ... | Glucose(2) | Glucose(2) |\n",
            "+------------------+------------+-----+------------+------------+\n",
            "| Outcome          | Outcome(0) | ... | Outcome(0) | Outcome(1) |\n",
            "+------------------+------------+-----+------------+------------+\n",
            "| BloodPressure(0) | 0.8095     | ... | 0.3235     | 0.4154     |\n",
            "+------------------+------------+-----+------------+------------+\n",
            "| BloodPressure(1) | 0.1905     | ... | 0.6765     | 0.5846     |\n",
            "+------------------+------------+-----+------------+------------+\n"
          ]
        }
      ]
    },
    {
      "cell_type": "code",
      "source": [
        "print(cpd_Age)"
      ],
      "metadata": {
        "colab": {
          "base_uri": "https://localhost:8080/"
        },
        "id": "QPnnEWGC9rf9",
        "outputId": "9ec76706-4035-4899-acf6-36a288e51c66"
      },
      "execution_count": null,
      "outputs": [
        {
          "output_type": "stream",
          "name": "stdout",
          "text": [
            "+--------+--------+\n",
            "| Age(0) | 0.3906 |\n",
            "+--------+--------+\n",
            "| Age(1) | 0.3398 |\n",
            "+--------+--------+\n",
            "| Age(2) | 0.2695 |\n",
            "+--------+--------+\n"
          ]
        }
      ]
    },
    {
      "cell_type": "code",
      "source": [
        "print(cpd_Diabetes)"
      ],
      "metadata": {
        "colab": {
          "base_uri": "https://localhost:8080/"
        },
        "id": "uboVJlpyrTj7",
        "outputId": "5d1a5e74-3c00-4ec1-a9e2-28f6935cc80c"
      },
      "execution_count": null,
      "outputs": [
        {
          "output_type": "stream",
          "name": "stdout",
          "text": [
            "+------------+------------+------------+------------+\n",
            "| Glucose    | Glucose(0) | Glucose(1) | Glucose(2) |\n",
            "+------------+------------+------------+------------+\n",
            "| Outcome(0) | 0.9188     | 0.7346     | 0.4116     |\n",
            "+------------+------------+------------+------------+\n",
            "| Outcome(1) | 0.0812     | 0.2654     | 0.5884     |\n",
            "+------------+------------+------------+------------+\n"
          ]
        }
      ]
    },
    {
      "cell_type": "code",
      "source": [
        "import networkx as nx\n",
        "import matplotlib.pyplot as plt\n",
        "edges = [('Age', 'SkinThick'), ('Age', 'Pregnancies'), ('Age', 'Insulin'), ('SkinThick', 'BMI'), ('BMI', 'BloodP'), ('PedFunc', 'Insulin'), ('Insulin', 'Glucose'), ('Insulin', 'BloodP'), ('Glucose', 'Diabetes'), ('Glucose', 'BloodP'), ('Diabetes', 'BloodP')]\n",
        "g = nx.DiGraph()\n",
        "for i in edges:\n",
        "  g.add_edge(i[0], i[1])\n",
        "\n",
        "pos = {'Insulin': (0,0), 'Glucose':(0,-1), 'Diabetes':(0,-2), 'BloodP':(4,-2), 'PedFunc':(0,1), 'Age':(-1,1), 'Pregnancies':(-1,0), 'SkinThick':(-2,0), 'BMI':(-1,-3)}\n",
        "\n",
        "options = {\n",
        "    \"font_size\": 10,\n",
        "    \"node_size\": 2000,\n",
        "    \"node_color\": \"white\",\n",
        "    \"edgecolors\": \"red\",\n",
        "    \"linewidths\": 2,\n",
        "    \"width\": 2,\n",
        "}\n",
        "\n",
        "nx.draw(g, **options, with_labels = True, pos=pos)"
      ],
      "metadata": {
        "colab": {
          "base_uri": "https://localhost:8080/",
          "height": 319
        },
        "id": "mhEy9xZQVesB",
        "outputId": "28e251f2-e676-4c6c-bed5-b68821ded7ce"
      },
      "execution_count": null,
      "outputs": [
        {
          "output_type": "display_data",
          "data": {
            "text/plain": [
              "<Figure size 432x288 with 1 Axes>"
            ],
            "image/png": "[encoded data removed]"
          },
          "metadata": {}
        }
      ]
    },
    {
      "cell_type": "code",
      "source": [
        "nodes = list(g.nodes)\n",
        "nodes.remove('Diabetes')\n",
        "nodes"
      ],
      "metadata": {
        "colab": {
          "base_uri": "https://localhost:8080/"
        },
        "id": "k7xKwVF3MruC",
        "outputId": "c861bf30-b3a8-437e-cd67-49a5535af71a"
      },
      "execution_count": null,
      "outputs": [
        {
          "output_type": "execute_result",
          "data": {
            "text/plain": [
              "['Age',\n",
              " 'SkinThick',\n",
              " 'Pregnancies',\n",
              " 'Insulin',\n",
              " 'BMI',\n",
              " 'BloodP',\n",
              " 'PedFunc',\n",
              " 'Glucose']"
            ]
          },
          "metadata": {},
          "execution_count": 37
        }
      ]
    },
    {
      "cell_type": "markdown",
      "source": [
        "Does multiple pregnancy cause diabetes?\n",
        "Women carrying multiples have a high risk of gestational diabetes. This condition can increase the risk of preeclampsia and of developing diabetes mellitus later in life. Newborns may have breathing problems or low blood sugar levels."
      ],
      "metadata": {
        "id": "PwHO5diYlp37"
      }
    },
    {
      "cell_type": "markdown",
      "source": [
        "![WhatsApp Image 2022-12-08 at 23.39.06.jpg](data:image/jpeg;base64,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)"
      ],
      "metadata": {
        "id": "s7kb5q6U8opO"
      }
    },
    {
      "cell_type": "code",
      "source": [
        "import numpy as np\n",
        "import pandas as pd\n",
        "from pgmpy.models import BayesianNetwork\n",
        "train_data = df[:400]\n",
        "predict_data = df[400:]\n",
        "diabetes_model.fit(df)\n",
        "predict_data = predict_data.copy()\n",
        "predict_data.drop('Outcome', axis=1, inplace=True)\n",
        "y_prob = diabetes_model.predict_probability(predict_data)"
      ],
      "metadata": {
        "id": "ZPi5oiW08m7i"
      },
      "execution_count": null,
      "outputs": []
    },
    {
      "cell_type": "code",
      "source": [
        "y_prob"
      ],
      "metadata": {
        "colab": {
          "base_uri": "https://localhost:8080/",
          "height": 424
        },
        "id": "hMqneo9__7kv",
        "outputId": "d2f2ab28-6efb-4a7c-a95a-0ae4c81b0fe1"
      },
      "execution_count": null,
      "outputs": [
        {
          "output_type": "execute_result",
          "data": {
            "text/plain": [
              "     Outcome_0  Outcome_1\n",
              "400   0.932142   0.067858\n",
              "401   0.330931   0.669069\n",
              "402   0.447316   0.552684\n",
              "403   0.866029   0.133971\n",
              "404   0.308063   0.691937\n",
              "..         ...        ...\n",
              "763   0.695087   0.304913\n",
              "764   0.697880   0.302120\n",
              "765   0.841286   0.158714\n",
              "766   0.330931   0.669069\n",
              "767   0.932142   0.067858\n",
              "\n",
              "[368 rows x 2 columns]"
            ],
            "text/html": [
              "\n",
              "  <div id=\"df-2aca9132-01b8-471c-8dfa-9105fe8bb4fd\">\n",
              "    <div class=\"colab-df-container\">\n",
              "      <div>\n",
              "<style scoped>\n",
              "    .dataframe tbody tr th:only-of-type {\n",
              "        vertical-align: middle;\n",
              "    }\n",
              "\n",
              "    .dataframe tbody tr th {\n",
              "        vertical-align: top;\n",
              "    }\n",
              "\n",
              "    .dataframe thead th {\n",
              "        text-align: right;\n",
              "    }\n",
              "</style>\n",
              "<table border=\"1\" class=\"dataframe\">\n",
              "  <thead>\n",
              "    <tr style=\"text-align: right;\">\n",
              "      <th></th>\n",
              "      <th>Outcome_0</th>\n",
              "      <th>Outcome_1</th>\n",
              "    </tr>\n",
              "  </thead>\n",
              "  <tbody>\n",
              "    <tr>\n",
              "      <th>400</th>\n",
              "      <td>0.932142</td>\n",
              "      <td>0.067858</td>\n",
              "    </tr>\n",
              "    <tr>\n",
              "      <th>401</th>\n",
              "      <td>0.330931</td>\n",
              "      <td>0.669069</td>\n",
              "    </tr>\n",
              "    <tr>\n",
              "      <th>402</th>\n",
              "      <td>0.447316</td>\n",
              "      <td>0.552684</td>\n",
              "    </tr>\n",
              "    <tr>\n",
              "      <th>403</th>\n",
              "      <td>0.866029</td>\n",
              "      <td>0.133971</td>\n",
              "    </tr>\n",
              "    <tr>\n",
              "      <th>404</th>\n",
              "      <td>0.308063</td>\n",
              "      <td>0.691937</td>\n",
              "    </tr>\n",
              "    <tr>\n",
              "      <th>...</th>\n",
              "      <td>...</td>\n",
              "      <td>...</td>\n",
              "    </tr>\n",
              "    <tr>\n",
              "      <th>763</th>\n",
              "      <td>0.695087</td>\n",
              "      <td>0.304913</td>\n",
              "    </tr>\n",
              "    <tr>\n",
              "      <th>764</th>\n",
              "      <td>0.697880</td>\n",
              "      <td>0.302120</td>\n",
              "    </tr>\n",
              "    <tr>\n",
              "      <th>765</th>\n",
              "      <td>0.841286</td>\n",
              "      <td>0.158714</td>\n",
              "    </tr>\n",
              "    <tr>\n",
              "      <th>766</th>\n",
              "      <td>0.330931</td>\n",
              "      <td>0.669069</td>\n",
              "    </tr>\n",
              "    <tr>\n",
              "      <th>767</th>\n",
              "      <td>0.932142</td>\n",
              "      <td>0.067858</td>\n",
              "    </tr>\n",
              "  </tbody>\n",
              "</table>\n",
              "<p>368 rows × 2 columns</p>\n",
              "</div>\n",
              "      <button class=\"colab-df-convert\" onclick=\"convertToInteractive('df-2aca9132-01b8-471c-8dfa-9105fe8bb4fd')\"\n",
              "              title=\"Convert this dataframe to an interactive table.\"\n",
              "              style=\"display:none;\">\n",
              "        \n",
              "  <svg xmlns=\"http://www.w3.org/2000/svg\" height=\"24px\"viewBox=\"0 0 24 24\"\n",
              "       width=\"24px\">\n",
              "    <path d=\"M0 0h24v24H0V0z\" fill=\"none\"/>\n",
              "    <path d=\"M18.56 5.44l.94 2.06.94-2.06 2.06-.94-2.06-.94-.94-2.06-.94 2.06-2.06.94zm-11 1L8.5 8.5l.94-2.06 2.06-.94-2.06-.94L8.5 2.5l-.94 2.06-2.06.94zm10 10l.94 2.06.94-2.06 2.06-.94-2.06-.94-.94-2.06-.94 2.06-2.06.94z\"/><path d=\"M17.41 7.96l-1.37-1.37c-.4-.4-.92-.59-1.43-.59-.52 0-1.04.2-1.43.59L10.3 9.45l-7.72 7.72c-.78.78-.78 2.05 0 2.83L4 21.41c.39.39.9.59 1.41.59.51 0 1.02-.2 1.41-.59l7.78-7.78 2.81-2.81c.8-.78.8-2.07 0-2.86zM5.41 20L4 18.59l7.72-7.72 1.47 1.35L5.41 20z\"/>\n",
              "  </svg>\n",
              "      </button>\n",
              "      \n",
              "  <style>\n",
              "    .colab-df-container {\n",
              "      display:flex;\n",
              "      flex-wrap:wrap;\n",
              "      gap: 12px;\n",
              "    }\n",
              "\n",
              "    .colab-df-convert {\n",
              "      background-color: #E8F0FE;\n",
              "      border: none;\n",
              "      border-radius: 50%;\n",
              "      cursor: pointer;\n",
              "      display: none;\n",
              "      fill: #1967D2;\n",
              "      height: 32px;\n",
              "      padding: 0 0 0 0;\n",
              "      width: 32px;\n",
              "    }\n",
              "\n",
              "    .colab-df-convert:hover {\n",
              "      background-color: #E2EBFA;\n",
              "      box-shadow: 0px 1px 2px rgba(60, 64, 67, 0.3), 0px 1px 3px 1px rgba(60, 64, 67, 0.15);\n",
              "      fill: #174EA6;\n",
              "    }\n",
              "\n",
              "    [theme=dark] .colab-df-convert {\n",
              "      background-color: #3B4455;\n",
              "      fill: #D2E3FC;\n",
              "    }\n",
              "\n",
              "    [theme=dark] .colab-df-convert:hover {\n",
              "      background-color: #434B5C;\n",
              "      box-shadow: 0px 1px 3px 1px rgba(0, 0, 0, 0.15);\n",
              "      filter: drop-shadow(0px 1px 2px rgba(0, 0, 0, 0.3));\n",
              "      fill: #FFFFFF;\n",
              "    }\n",
              "  </style>\n",
              "\n",
              "      <script>\n",
              "        const buttonEl =\n",
              "          document.querySelector('#df-2aca9132-01b8-471c-8dfa-9105fe8bb4fd button.colab-df-convert');\n",
              "        buttonEl.style.display =\n",
              "          google.colab.kernel.accessAllowed ? 'block' : 'none';\n",
              "\n",
              "        async function convertToInteractive(key) {\n",
              "          const element = document.querySelector('#df-2aca9132-01b8-471c-8dfa-9105fe8bb4fd');\n",
              "          const dataTable =\n",
              "            await google.colab.kernel.invokeFunction('convertToInteractive',\n",
              "                                                     [key], {});\n",
              "          if (!dataTable) return;\n",
              "\n",
              "          const docLinkHtml = 'Like what you see? Visit the ' +\n",
              "            '<a target=\"_blank\" href=https://colab.research.google.com/notebooks/data_table.ipynb>data table notebook</a>'\n",
              "            + ' to learn more about interactive tables.';\n",
              "          element.innerHTML = '';\n",
              "          dataTable['output_type'] = 'display_data';\n",
              "          await google.colab.output.renderOutput(dataTable, element);\n",
              "          const docLink = document.createElement('div');\n",
              "          docLink.innerHTML = docLinkHtml;\n",
              "          element.appendChild(docLink);\n",
              "        }\n",
              "      </script>\n",
              "    </div>\n",
              "  </div>\n",
              "  "
            ]
          },
          "metadata": {},
          "execution_count": 39
        }
      ]
    },
    {
      "cell_type": "code",
      "source": [
        "Class_pred=[1 if y_prob['Outcome_0'][i]<0.5 else 0 for i in range(400,768)]"
      ],
      "metadata": {
        "id": "HVqe-Cnc_FQT"
      },
      "execution_count": null,
      "outputs": []
    },
    {
      "cell_type": "code",
      "source": [
        "def acc(Class_pred,Trueclass):\n",
        "  n=len(Trueclass)\n",
        "  tp=0\n",
        "  tn=0\n",
        "  fp=0\n",
        "  fn=0\n",
        "  for i in range(len(Trueclass)):\n",
        "    if Class_pred[i]==Trueclass[i]:\n",
        "      if Class_pred[i] == 1:\n",
        "        tp+=1\n",
        "      else:\n",
        "        tn+=1\n",
        "    else:\n",
        "      if(Trueclass[i] == 0):\n",
        "        fp+=1\n",
        "      else:\n",
        "        fn+=1\n",
        "\n",
        "  precision = (tp/(tp+fp))\n",
        "  recall = (tp/(tp+fn))\n",
        "  output=[]\n",
        "  print(f\"The accuracy is {((tp+tn)/n)*100}\")\n",
        "  output.append(((tp+tn)/n)*100)\n",
        "  print(f\"The precision is {precision}\")\n",
        "  output.append(precision)\n",
        "  print(f\"The recall is {recall}\")\n",
        "  output.append(recall)\n",
        "  print(f\"The f1-score is {2*(precision*recall)/(precision+recall)}\")\n",
        "  output.append(2*(precision*recall)/(precision+recall))\n",
        "  return output"
      ],
      "metadata": {
        "id": "-ELXzsu4_OBY"
      },
      "execution_count": null,
      "outputs": []
    },
    {
      "cell_type": "code",
      "source": [
        "dfn=df[400:]\n",
        "dfn.reset_index(inplace=True)"
      ],
      "metadata": {
        "id": "O5AJn2sU8qhq"
      },
      "execution_count": null,
      "outputs": []
    },
    {
      "cell_type": "code",
      "source": [
        "print(len(Class_pred))\n",
        "print(len(dfn))"
      ],
      "metadata": {
        "colab": {
          "base_uri": "https://localhost:8080/"
        },
        "id": "uvi61QC1_dbp",
        "outputId": "23ed83b4-5b0e-47be-87aa-bad0a1ea0051"
      },
      "execution_count": null,
      "outputs": [
        {
          "output_type": "stream",
          "name": "stdout",
          "text": [
            "368\n",
            "368\n"
          ]
        }
      ]
    },
    {
      "cell_type": "code",
      "source": [
        "output_bayesian=acc(Class_pred,dfn[\"Outcome\"])"
      ],
      "metadata": {
        "colab": {
          "base_uri": "https://localhost:8080/"
        },
        "id": "SToia11vAR2q",
        "outputId": "12153fa8-1f30-4a85-b176-9cd8222b7037"
      },
      "execution_count": null,
      "outputs": [
        {
          "output_type": "stream",
          "name": "stdout",
          "text": [
            "The accuracy is 74.72826086956522\n",
            "The precision is 0.5793103448275863\n",
            "The recall is 0.7241379310344828\n",
            "The f1-score is 0.6436781609195402\n"
          ]
        }
      ]
    },
    {
      "cell_type": "markdown",
      "source": [
        "##INFERENCE IN BAYESIAN NETWORK"
      ],
      "metadata": {
        "id": "ZW4DnzH_6LQL"
      }
    },
    {
      "cell_type": "code",
      "source": [
        "from pgmpy.inference import VariableElimination\n",
        "infer = VariableElimination(diabetes_model)\n",
        "g_dist = infer.query(['Age'])\n",
        "print(g_dist)"
      ],
      "metadata": {
        "id": "26QSZsuB6OAJ",
        "colab": {
          "base_uri": "https://localhost:8080/"
        },
        "outputId": "8b3711b0-3889-4bdb-f31b-cca1cef632ea"
      },
      "execution_count": null,
      "outputs": [
        {
          "output_type": "stream",
          "name": "stdout",
          "text": [
            "+--------+------------+\n",
            "| Age    |   phi(Age) |\n",
            "+========+============+\n",
            "| Age(0) |     0.3906 |\n",
            "+--------+------------+\n",
            "| Age(1) |     0.3398 |\n",
            "+--------+------------+\n",
            "| Age(2) |     0.2695 |\n",
            "+--------+------------+\n"
          ]
        }
      ]
    },
    {
      "cell_type": "code",
      "source": [
        "print(infer.query(['Outcome'], evidence={'Age':0, 'BloodPressure': 0 }))"
      ],
      "metadata": {
        "id": "bMzcBkOVqNle",
        "colab": {
          "base_uri": "https://localhost:8080/"
        },
        "outputId": "3d6eaf98-747b-467e-c474-23186e12ebf6"
      },
      "execution_count": null,
      "outputs": [
        {
          "output_type": "stream",
          "name": "stdout",
          "text": [
            "+------------+----------------+\n",
            "| Outcome    |   phi(Outcome) |\n",
            "+============+================+\n",
            "| Outcome(0) |         0.6861 |\n",
            "+------------+----------------+\n",
            "| Outcome(1) |         0.3139 |\n",
            "+------------+----------------+\n"
          ]
        }
      ]
    },
    {
      "cell_type": "code",
      "source": [
        "print(infer.query(['Outcome'], evidence={'Insulin': 0 , 'Glucose': 2}))"
      ],
      "metadata": {
        "id": "NakkTuHUM2Lo",
        "colab": {
          "base_uri": "https://localhost:8080/"
        },
        "outputId": "75b80c44-8af4-4f85-9b1f-fd578b913dab"
      },
      "execution_count": null,
      "outputs": [
        {
          "output_type": "stream",
          "name": "stdout",
          "text": [
            "+------------+----------------+\n",
            "| Outcome    |   phi(Outcome) |\n",
            "+============+================+\n",
            "| Outcome(0) |         0.4116 |\n",
            "+------------+----------------+\n",
            "| Outcome(1) |         0.5884 |\n",
            "+------------+----------------+\n"
          ]
        }
      ]
    },
    {
      "cell_type": "markdown",
      "source": [
        "##NAIVE BAYES"
      ],
      "metadata": {
        "id": "EeWUMy1yA7QN"
      }
    },
    {
      "cell_type": "code",
      "source": [
        "from sklearn.model_selection import train_test_split"
      ],
      "metadata": {
        "id": "VGMBdKiGl-m9"
      },
      "execution_count": null,
      "outputs": []
    },
    {
      "cell_type": "code",
      "source": [
        "data=df.copy()\n",
        "X=data.drop('Outcome',axis=1)\n",
        "Y=data[['Outcome']]\n",
        "X_train,X_test,Y_train,Y_test=train_test_split(X,Y,random_state=42,train_size=0.8)"
      ],
      "metadata": {
        "id": "ITqyyW78mY9F"
      },
      "execution_count": null,
      "outputs": []
    },
    {
      "cell_type": "code",
      "source": [
        "from sklearn.naive_bayes import GaussianNB\n",
        "model = GaussianNB()\n",
        "model.fit(X_train,Y_train)\n",
        "Y_pred=model.predict(X_test)"
      ],
      "metadata": {
        "id": "hqjtLrrknaAQ",
        "colab": {
          "base_uri": "https://localhost:8080/"
        },
        "outputId": "0009ed29-1295-45f7-813f-349649396128"
      },
      "execution_count": null,
      "outputs": [
        {
          "output_type": "stream",
          "name": "stderr",
          "text": [
            "/usr/local/lib/python3.8/dist-packages/sklearn/utils/validation.py:993: DataConversionWarning: A column-vector y was passed when a 1d array was expected. Please change the shape of y to (n_samples, ), for example using ravel().\n",
            "  y = column_or_1d(y, warn=True)\n"
          ]
        }
      ]
    },
    {
      "cell_type": "code",
      "source": [
        "from sklearn import metrics\n",
        "print(\"Accuracy: \",metrics.accuracy_score(Y_test,Y_pred))\n",
        "from sklearn.metrics import confusion_matrix\n",
        "mat=confusion_matrix(Y_test, Y_pred)"
      ],
      "metadata": {
        "id": "6mMDYfEQoNDQ",
        "colab": {
          "base_uri": "https://localhost:8080/"
        },
        "outputId": "d5c06d14-3189-4efe-fa6f-1449dc2d700d"
      },
      "execution_count": null,
      "outputs": [
        {
          "output_type": "stream",
          "name": "stdout",
          "text": [
            "Accuracy:  0.7272727272727273\n"
          ]
        }
      ]
    },
    {
      "cell_type": "code",
      "source": [
        "from sklearn.metrics import precision_score,recall_score, confusion_matrix, classification_report,accuracy_score, f1_score\n",
        "\n",
        "print('Accuracy:', accuracy_score(Y_test, Y_pred))\n",
        "print('F1 score:', f1_score(Y_test, Y_pred))\n",
        "print('Recall:', recall_score(Y_test, Y_pred))\n",
        "print('Precision:', precision_score(Y_test, Y_pred))\n",
        "print('\\n clasification report:\\n', classification_report(Y_test,Y_pred))\n",
        "print('\\n confussion matrix:\\n',confusion_matrix(Y_test, Y_pred))"
      ],
      "metadata": {
        "id": "NBC43y2AIG0I",
        "colab": {
          "base_uri": "https://localhost:8080/"
        },
        "outputId": "fe0f47c8-4223-4393-fef9-1fcad9621bd2"
      },
      "execution_count": null,
      "outputs": [
        {
          "output_type": "stream",
          "name": "stdout",
          "text": [
            "Accuracy: 0.7272727272727273\n",
            "F1 score: 0.625\n",
            "Recall: 0.6363636363636364\n",
            "Precision: 0.6140350877192983\n",
            "\n",
            " clasification report:\n",
            "               precision    recall  f1-score   support\n",
            "\n",
            "           0       0.79      0.78      0.79        99\n",
            "           1       0.61      0.64      0.62        55\n",
            "\n",
            "    accuracy                           0.73       154\n",
            "   macro avg       0.70      0.71      0.71       154\n",
            "weighted avg       0.73      0.73      0.73       154\n",
            "\n",
            "\n",
            " confussion matrix:\n",
            " [[77 22]\n",
            " [20 35]]\n"
          ]
        }
      ]
    },
    {
      "cell_type": "code",
      "source": [
        "output_NB = [(accuracy_score(Y_test, Y_pred))*100,precision_score(Y_test, Y_pred),recall_score(Y_test, Y_pred),f1_score(Y_test, Y_pred)]"
      ],
      "metadata": {
        "id": "FZxM5Ng_Jh5q"
      },
      "execution_count": null,
      "outputs": []
    },
    {
      "cell_type": "markdown",
      "source": [
        "##Chow-Liu"
      ],
      "metadata": {
        "id": "wOB6rNyS9DQ4"
      }
    },
    {
      "cell_type": "code",
      "source": [
        "from pgmpy.sampling import BayesianModelSampling\n",
        "\n",
        "# sample data from BN\n",
        "inference = BayesianModelSampling(diabetes_model)\n",
        "df_data = inference.forward_sample(size=10000)\n",
        "df_data"
      ],
      "metadata": {
        "id": "Mne0uK5EvKgl",
        "colab": {
          "base_uri": "https://localhost:8080/",
          "height": 456,
          "referenced_widgets": [
            "8ca97e16459648c3b6056b540b430e93",
            "2ac64476653a41b285d6aa14237df636",
            "d5ea50342145405f9ef9e4a091306633",
            "2b8d7d2932164bb3aa621191fc259a97",
            "bcbacfad9d9a41baab0e5f750411d1c6",
            "40f28488db3a43e9a66c7035e19e4881",
            "b2792bc949fe4f72b7131342e0b65214",
            "768a02b5feac4a45984f9aa64ea1e8f1",
            "2ba0913715d44e0f998eef3248b97fa8",
            "96868af565b14d52943a6e861c9bf80b",
            "d0f5398b4288480a8a9e3de8044d8b17"
          ]
        },
        "outputId": "07db41f9-84de-4b62-9563-9064ee758907"
      },
      "execution_count": null,
      "outputs": [
        {
          "output_type": "display_data",
          "data": {
            "text/plain": [
              "  0%|          | 0/9 [00:00<?, ?it/s]"
            ],
            "application/vnd.jupyter.widget-view+json": {
              "version_major": 2,
              "version_minor": 0,
              "model_id": "8ca97e16459648c3b6056b540b430e93"
            }
          },
          "metadata": {}
        },
        {
          "output_type": "execute_result",
          "data": {
            "text/plain": [
              "      Age  SkinThickness  Pregnancies  Insulin  BMI  BloodPressure  \\\n",
              "0       1              2            1        0    1              0   \n",
              "1       0              0            0        1    1              1   \n",
              "2       2              1            0        0    1              1   \n",
              "3       0              1            0        0    0              0   \n",
              "4       2              0            0        0    0              1   \n",
              "...   ...            ...          ...      ...  ...            ...   \n",
              "9995    1              2            2        0    1              1   \n",
              "9996    1              0            2        0    0              0   \n",
              "9997    1              0            1        0    0              0   \n",
              "9998    0              1            1        0    0              1   \n",
              "9999    1              0            1        0    0              1   \n",
              "\n",
              "      DiabetesPedigreeFunction  Glucose  Outcome  \n",
              "0                            1        2        0  \n",
              "1                            1        2        1  \n",
              "2                            1        1        0  \n",
              "3                            1        2        1  \n",
              "4                            0        2        0  \n",
              "...                        ...      ...      ...  \n",
              "9995                         1        0        0  \n",
              "9996                         0        0        0  \n",
              "9997                         0        0        0  \n",
              "9998                         1        1        1  \n",
              "9999                         1        1        1  \n",
              "\n",
              "[10000 rows x 9 columns]"
            ],
            "text/html": [
              "\n",
              "  <div id=\"df-fab33c35-e8f3-43e1-ad5b-81dc8bd52db6\">\n",
              "    <div class=\"colab-df-container\">\n",
              "      <div>\n",
              "<style scoped>\n",
              "    .dataframe tbody tr th:only-of-type {\n",
              "        vertical-align: middle;\n",
              "    }\n",
              "\n",
              "    .dataframe tbody tr th {\n",
              "        vertical-align: top;\n",
              "    }\n",
              "\n",
              "    .dataframe thead th {\n",
              "        text-align: right;\n",
              "    }\n",
              "</style>\n",
              "<table border=\"1\" class=\"dataframe\">\n",
              "  <thead>\n",
              "    <tr style=\"text-align: right;\">\n",
              "      <th></th>\n",
              "      <th>Age</th>\n",
              "      <th>SkinThickness</th>\n",
              "      <th>Pregnancies</th>\n",
              "      <th>Insulin</th>\n",
              "      <th>BMI</th>\n",
              "      <th>BloodPressure</th>\n",
              "      <th>DiabetesPedigreeFunction</th>\n",
              "      <th>Glucose</th>\n",
              "      <th>Outcome</th>\n",
              "    </tr>\n",
              "  </thead>\n",
              "  <tbody>\n",
              "    <tr>\n",
              "      <th>0</th>\n",
              "      <td>1</td>\n",
              "      <td>2</td>\n",
              "      <td>1</td>\n",
              "      <td>0</td>\n",
              "      <td>1</td>\n",
              "      <td>0</td>\n",
              "      <td>1</td>\n",
              "      <td>2</td>\n",
              "      <td>0</td>\n",
              "    </tr>\n",
              "    <tr>\n",
              "      <th>1</th>\n",
              "      <td>0</td>\n",
              "      <td>0</td>\n",
              "      <td>0</td>\n",
              "      <td>1</td>\n",
              "      <td>1</td>\n",
              "      <td>1</td>\n",
              "      <td>1</td>\n",
              "      <td>2</td>\n",
              "      <td>1</td>\n",
              "    </tr>\n",
              "    <tr>\n",
              "      <th>2</th>\n",
              "      <td>2</td>\n",
              "      <td>1</td>\n",
              "      <td>0</td>\n",
              "      <td>0</td>\n",
              "      <td>1</td>\n",
              "      <td>1</td>\n",
              "      <td>1</td>\n",
              "      <td>1</td>\n",
              "      <td>0</td>\n",
              "    </tr>\n",
              "    <tr>\n",
              "      <th>3</th>\n",
              "      <td>0</td>\n",
              "      <td>1</td>\n",
              "      <td>0</td>\n",
              "      <td>0</td>\n",
              "      <td>0</td>\n",
              "      <td>0</td>\n",
              "      <td>1</td>\n",
              "      <td>2</td>\n",
              "      <td>1</td>\n",
              "    </tr>\n",
              "    <tr>\n",
              "      <th>4</th>\n",
              "      <td>2</td>\n",
              "      <td>0</td>\n",
              "      <td>0</td>\n",
              "      <td>0</td>\n",
              "      <td>0</td>\n",
              "      <td>1</td>\n",
              "      <td>0</td>\n",
              "      <td>2</td>\n",
              "      <td>0</td>\n",
              "    </tr>\n",
              "    <tr>\n",
              "      <th>...</th>\n",
              "      <td>...</td>\n",
              "      <td>...</td>\n",
              "      <td>...</td>\n",
              "      <td>...</td>\n",
              "      <td>...</td>\n",
              "      <td>...</td>\n",
              "      <td>...</td>\n",
              "      <td>...</td>\n",
              "      <td>...</td>\n",
              "    </tr>\n",
              "    <tr>\n",
              "      <th>9995</th>\n",
              "      <td>1</td>\n",
              "      <td>2</td>\n",
              "      <td>2</td>\n",
              "      <td>0</td>\n",
              "      <td>1</td>\n",
              "      <td>1</td>\n",
              "      <td>1</td>\n",
              "      <td>0</td>\n",
              "      <td>0</td>\n",
              "    </tr>\n",
              "    <tr>\n",
              "      <th>9996</th>\n",
              "      <td>1</td>\n",
              "      <td>0</td>\n",
              "      <td>2</td>\n",
              "      <td>0</td>\n",
              "      <td>0</td>\n",
              "      <td>0</td>\n",
              "      <td>0</td>\n",
              "      <td>0</td>\n",
              "      <td>0</td>\n",
              "    </tr>\n",
              "    <tr>\n",
              "      <th>9997</th>\n",
              "      <td>1</td>\n",
              "      <td>0</td>\n",
              "      <td>1</td>\n",
              "      <td>0</td>\n",
              "      <td>0</td>\n",
              "      <td>0</td>\n",
              "      <td>0</td>\n",
              "      <td>0</td>\n",
              "      <td>0</td>\n",
              "    </tr>\n",
              "    <tr>\n",
              "      <th>9998</th>\n",
              "      <td>0</td>\n",
              "      <td>1</td>\n",
              "      <td>1</td>\n",
              "      <td>0</td>\n",
              "      <td>0</td>\n",
              "      <td>1</td>\n",
              "      <td>1</td>\n",
              "      <td>1</td>\n",
              "      <td>1</td>\n",
              "    </tr>\n",
              "    <tr>\n",
              "      <th>9999</th>\n",
              "      <td>1</td>\n",
              "      <td>0</td>\n",
              "      <td>1</td>\n",
              "      <td>0</td>\n",
              "      <td>0</td>\n",
              "      <td>1</td>\n",
              "      <td>1</td>\n",
              "      <td>1</td>\n",
              "      <td>1</td>\n",
              "    </tr>\n",
              "  </tbody>\n",
              "</table>\n",
              "<p>10000 rows × 9 columns</p>\n",
              "</div>\n",
              "      <button class=\"colab-df-convert\" onclick=\"convertToInteractive('df-fab33c35-e8f3-43e1-ad5b-81dc8bd52db6')\"\n",
              "              title=\"Convert this dataframe to an interactive table.\"\n",
              "              style=\"display:none;\">\n",
              "        \n",
              "  <svg xmlns=\"http://www.w3.org/2000/svg\" height=\"24px\"viewBox=\"0 0 24 24\"\n",
              "       width=\"24px\">\n",
              "    <path d=\"M0 0h24v24H0V0z\" fill=\"none\"/>\n",
              "    <path d=\"M18.56 5.44l.94 2.06.94-2.06 2.06-.94-2.06-.94-.94-2.06-.94 2.06-2.06.94zm-11 1L8.5 8.5l.94-2.06 2.06-.94-2.06-.94L8.5 2.5l-.94 2.06-2.06.94zm10 10l.94 2.06.94-2.06 2.06-.94-2.06-.94-.94-2.06-.94 2.06-2.06.94z\"/><path d=\"M17.41 7.96l-1.37-1.37c-.4-.4-.92-.59-1.43-.59-.52 0-1.04.2-1.43.59L10.3 9.45l-7.72 7.72c-.78.78-.78 2.05 0 2.83L4 21.41c.39.39.9.59 1.41.59.51 0 1.02-.2 1.41-.59l7.78-7.78 2.81-2.81c.8-.78.8-2.07 0-2.86zM5.41 20L4 18.59l7.72-7.72 1.47 1.35L5.41 20z\"/>\n",
              "  </svg>\n",
              "      </button>\n",
              "      \n",
              "  <style>\n",
              "    .colab-df-container {\n",
              "      display:flex;\n",
              "      flex-wrap:wrap;\n",
              "      gap: 12px;\n",
              "    }\n",
              "\n",
              "    .colab-df-convert {\n",
              "      background-color: #E8F0FE;\n",
              "      border: none;\n",
              "      border-radius: 50%;\n",
              "      cursor: pointer;\n",
              "      display: none;\n",
              "      fill: #1967D2;\n",
              "      height: 32px;\n",
              "      padding: 0 0 0 0;\n",
              "      width: 32px;\n",
              "    }\n",
              "\n",
              "    .colab-df-convert:hover {\n",
              "      background-color: #E2EBFA;\n",
              "      box-shadow: 0px 1px 2px rgba(60, 64, 67, 0.3), 0px 1px 3px 1px rgba(60, 64, 67, 0.15);\n",
              "      fill: #174EA6;\n",
              "    }\n",
              "\n",
              "    [theme=dark] .colab-df-convert {\n",
              "      background-color: #3B4455;\n",
              "      fill: #D2E3FC;\n",
              "    }\n",
              "\n",
              "    [theme=dark] .colab-df-convert:hover {\n",
              "      background-color: #434B5C;\n",
              "      box-shadow: 0px 1px 3px 1px rgba(0, 0, 0, 0.15);\n",
              "      filter: drop-shadow(0px 1px 2px rgba(0, 0, 0, 0.3));\n",
              "      fill: #FFFFFF;\n",
              "    }\n",
              "  </style>\n",
              "\n",
              "      <script>\n",
              "        const buttonEl =\n",
              "          document.querySelector('#df-fab33c35-e8f3-43e1-ad5b-81dc8bd52db6 button.colab-df-convert');\n",
              "        buttonEl.style.display =\n",
              "          google.colab.kernel.accessAllowed ? 'block' : 'none';\n",
              "\n",
              "        async function convertToInteractive(key) {\n",
              "          const element = document.querySelector('#df-fab33c35-e8f3-43e1-ad5b-81dc8bd52db6');\n",
              "          const dataTable =\n",
              "            await google.colab.kernel.invokeFunction('convertToInteractive',\n",
              "                                                     [key], {});\n",
              "          if (!dataTable) return;\n",
              "\n",
              "          const docLinkHtml = 'Like what you see? Visit the ' +\n",
              "            '<a target=\"_blank\" href=https://colab.research.google.com/notebooks/data_table.ipynb>data table notebook</a>'\n",
              "            + ' to learn more about interactive tables.';\n",
              "          element.innerHTML = '';\n",
              "          dataTable['output_type'] = 'display_data';\n",
              "          await google.colab.output.renderOutput(dataTable, element);\n",
              "          const docLink = document.createElement('div');\n",
              "          docLink.innerHTML = docLinkHtml;\n",
              "          element.appendChild(docLink);\n",
              "        }\n",
              "      </script>\n",
              "    </div>\n",
              "  </div>\n",
              "  "
            ]
          },
          "metadata": {},
          "execution_count": 54
        }
      ]
    },
    {
      "cell_type": "markdown",
      "source": [
        "##Age as root"
      ],
      "metadata": {
        "id": "NW3tgafEgUU8"
      }
    },
    {
      "cell_type": "code",
      "source": [
        "from pgmpy.estimators import TreeSearch\n",
        "est = TreeSearch(df_data, root_node=\"Age\")\n",
        "dag = est.estimate(estimator_type=\"chow-liu\")\n",
        "nx.draw_circular(dag, with_labels=True, arrowsize=30, node_size=800, alpha=0.3, font_weight=\"bold\")\n",
        "plt.show()"
      ],
      "metadata": {
        "id": "yiGr00PczLB0",
        "colab": {
          "base_uri": "https://localhost:8080/",
          "height": 351,
          "referenced_widgets": [
            "1e78d3e012404b279aab305db74be1b2",
            "1b2f36f973c047329170ad2a638a4767",
            "c7998d043fb0456ea47b05cc64d8040c",
            "185b7e0a073b4d8a82d710be32a55bbe",
            "e08afca3630d45a6acde094115e04380",
            "df8fa967d45e47a4a9c5118cdea2a2cf",
            "33469787608b449ba50b82d939d4a8f6",
            "0f2233d15d984c47bbaca68f68fa58e7",
            "e262fbe1249e4cb3aac35f1c5d4514eb",
            "eb8f4db3f6954143b86b17ccb5e36972",
            "54f0221264b44ed3a39482f6bcd76f44"
          ]
        },
        "outputId": "15de2238-b493-4cfc-b2b2-801d4ceab9a0"
      },
      "execution_count": null,
      "outputs": [
        {
          "output_type": "display_data",
          "data": {
            "text/plain": [
              "Building tree:   0%|          | 0/36.0 [00:00<?, ?it/s]"
            ],
            "application/vnd.jupyter.widget-view+json": {
              "version_major": 2,
              "version_minor": 0,
              "model_id": "1e78d3e012404b279aab305db74be1b2"
            }
          },
          "metadata": {}
        },
        {
          "output_type": "display_data",
          "data": {
            "text/plain": [
              "<Figure size 432x288 with 1 Axes>"
            ],
            "image/png": "[encoded data removed]"
          },
          "metadata": {}
        }
      ]
    },
    {
      "cell_type": "code",
      "source": [
        "from pgmpy.estimators import BayesianEstimator\n",
        "model1 = BayesianNetwork(dag.edges())\n",
        "model1.fit(df_data, estimator=BayesianEstimator, prior_type=\"dirichlet\", pseudo_counts=0.1)\n",
        "model1.get_cpds()"
      ],
      "metadata": {
        "colab": {
          "base_uri": "https://localhost:8080/"
        },
        "outputId": "c8171b28-4c30-4481-c074-f35ef1b4877f",
        "id": "ej0aFRKvf_wU"
      },
      "execution_count": null,
      "outputs": [
        {
          "output_type": "execute_result",
          "data": {
            "text/plain": [
              "[<TabularCPD representing P(Age:3) at 0x7f667c1806a0>,\n",
              " <TabularCPD representing P(Pregnancies:3 | Age:3) at 0x7f667c180b80>,\n",
              " <TabularCPD representing P(SkinThickness:3 | Age:3) at 0x7f667c1258e0>,\n",
              " <TabularCPD representing P(Insulin:2 | Age:3) at 0x7f667c180b20>,\n",
              " <TabularCPD representing P(BMI:2 | SkinThickness:3) at 0x7f667c121610>,\n",
              " <TabularCPD representing P(DiabetesPedigreeFunction:2 | Insulin:2) at 0x7f667c10bfd0>,\n",
              " <TabularCPD representing P(BloodPressure:2 | BMI:2) at 0x7f667c110be0>,\n",
              " <TabularCPD representing P(Glucose:3 | BloodPressure:2) at 0x7f667c110b80>,\n",
              " <TabularCPD representing P(Outcome:2 | Glucose:3) at 0x7f667c180700>]"
            ]
          },
          "metadata": {},
          "execution_count": 56
        }
      ]
    },
    {
      "cell_type": "code",
      "source": [
        "print(model1.get_cpds()[0])"
      ],
      "metadata": {
        "colab": {
          "base_uri": "https://localhost:8080/"
        },
        "outputId": "1403170c-5ff7-487d-ea9e-a520540643bc",
        "id": "htvA5nEBf_wV"
      },
      "execution_count": null,
      "outputs": [
        {
          "output_type": "stream",
          "name": "stdout",
          "text": [
            "+--------+----------+\n",
            "| Age(0) | 0.394398 |\n",
            "+--------+----------+\n",
            "| Age(1) | 0.3356   |\n",
            "+--------+----------+\n",
            "| Age(2) | 0.270002 |\n",
            "+--------+----------+\n"
          ]
        }
      ]
    },
    {
      "cell_type": "code",
      "source": [
        "for i in model1.get_cpds():\n",
        "  print(i)"
      ],
      "metadata": {
        "colab": {
          "base_uri": "https://localhost:8080/"
        },
        "outputId": "7f1dff70-1ce7-4b60-c902-488fb2175cbb",
        "id": "SVjLs_7Of_wV"
      },
      "execution_count": null,
      "outputs": [
        {
          "output_type": "stream",
          "name": "stdout",
          "text": [
            "+--------+----------+\n",
            "| Age(0) | 0.394398 |\n",
            "+--------+----------+\n",
            "| Age(1) | 0.3356   |\n",
            "+--------+----------+\n",
            "| Age(2) | 0.270002 |\n",
            "+--------+----------+\n",
            "+----------------+-----+---------------------+\n",
            "| Age            | ... | Age(2)              |\n",
            "+----------------+-----+---------------------+\n",
            "| Pregnancies(0) | ... | 0.11706106728881976 |\n",
            "+----------------+-----+---------------------+\n",
            "| Pregnancies(1) | ... | 0.11520942117542496 |\n",
            "+----------------+-----+---------------------+\n",
            "| Pregnancies(2) | ... | 0.7677295115357552  |\n",
            "+----------------+-----+---------------------+\n",
            "+------------------+-----+---------------------+\n",
            "| Age              | ... | Age(2)              |\n",
            "+------------------+-----+---------------------+\n",
            "| SkinThickness(0) | ... | 0.4536903307039959  |\n",
            "+------------------+-----+---------------------+\n",
            "| SkinThickness(1) | ... | 0.22704884642447137 |\n",
            "+------------------+-----+---------------------+\n",
            "| SkinThickness(2) | ... | 0.31926082287153285 |\n",
            "+------------------+-----+---------------------+\n",
            "+------------+---------------------+--------------------+--------------------+\n",
            "| Age        | Age(0)              | Age(1)             | Age(2)             |\n",
            "+------------+---------------------+--------------------+--------------------+\n",
            "| Insulin(0) | 0.38362659094366414 | 0.5184732733448543 | 0.6507295755869935 |\n",
            "+------------+---------------------+--------------------+--------------------+\n",
            "| Insulin(1) | 0.6163734090563359  | 0.4815267266551457 | 0.3492704244130065 |\n",
            "+------------+---------------------+--------------------+--------------------+\n",
            "+---------------+-----+---------------------+\n",
            "| SkinThickness | ... | SkinThickness(2)    |\n",
            "+---------------+-----+---------------------+\n",
            "| BMI(0)        | ... | 0.22370036839950883 |\n",
            "+---------------+-----+---------------------+\n",
            "| BMI(1)        | ... | 0.7762996316004912  |\n",
            "+---------------+-----+---------------------+\n",
            "+-----------------------------+---------------------+--------------------+\n",
            "| Insulin                     | Insulin(0)          | Insulin(1)         |\n",
            "+-----------------------------+---------------------+--------------------+\n",
            "| DiabetesPedigreeFunction(0) | 0.5744481258233204  | 0.4172377860606789 |\n",
            "+-----------------------------+---------------------+--------------------+\n",
            "| DiabetesPedigreeFunction(1) | 0.42555187417667956 | 0.582762213939321  |\n",
            "+-----------------------------+---------------------+--------------------+\n",
            "+------------------+--------------------+--------------------+\n",
            "| BMI              | BMI(0)             | BMI(1)             |\n",
            "+------------------+--------------------+--------------------+\n",
            "| BloodPressure(0) | 0.6137511656823127 | 0.4654866891947581 |\n",
            "+------------------+--------------------+--------------------+\n",
            "| BloodPressure(1) | 0.3862488343176873 | 0.5345133108052419 |\n",
            "+------------------+--------------------+--------------------+\n",
            "+---------------+---------------------+--------------------+\n",
            "| BloodPressure | BloodPressure(0)    | BloodPressure(1)   |\n",
            "+---------------+---------------------+--------------------+\n",
            "| Glucose(0)    | 0.31727663658343025 | 0.1746066385876089 |\n",
            "+---------------+---------------------+--------------------+\n",
            "| Glucose(1)    | 0.3552959415314767  | 0.3112192567051481 |\n",
            "+---------------+---------------------+--------------------+\n",
            "| Glucose(2)    | 0.32742742188509316 | 0.5141741047072431 |\n",
            "+---------------+---------------------+--------------------+\n",
            "+------------+---------------------+---------------------+--------------------+\n",
            "| Glucose    | Glucose(0)          | Glucose(1)          | Glucose(2)         |\n",
            "+------------+---------------------+---------------------+--------------------+\n",
            "| Outcome(0) | 0.9169974595109559  | 0.7403616614943901  | 0.4128371507433054 |\n",
            "+------------+---------------------+---------------------+--------------------+\n",
            "| Outcome(1) | 0.08300254048904414 | 0.25963833850560997 | 0.5871628492566946 |\n",
            "+------------+---------------------+---------------------+--------------------+\n"
          ]
        }
      ]
    },
    {
      "cell_type": "code",
      "source": [
        "import numpy as np\n",
        "import pandas as pd\n",
        "from pgmpy.models import BayesianNetwork\n",
        "train_data = df_data[:8000]\n",
        "predict_data = df_data[8000:]\n",
        "model1.fit(df_data)\n",
        "predict_data = predict_data.copy()\n",
        "predict_data.drop('Outcome', axis=1, inplace=True)\n",
        "y_prob = model1.predict_probability(predict_data)"
      ],
      "metadata": {
        "id": "GL3rvg7Mf_wV"
      },
      "execution_count": null,
      "outputs": []
    },
    {
      "cell_type": "code",
      "source": [
        "y_prob"
      ],
      "metadata": {
        "colab": {
          "base_uri": "https://localhost:8080/",
          "height": 424
        },
        "outputId": "a5d4e846-2a73-4942-8c96-51292ef76e9e",
        "id": "juKPLQ99f_wW"
      },
      "execution_count": null,
      "outputs": [
        {
          "output_type": "execute_result",
          "data": {
            "text/plain": [
              "      Outcome_0  Outcome_1\n",
              "8000   0.917031   0.082969\n",
              "8001   0.740376   0.259624\n",
              "8002   0.412833   0.587167\n",
              "8003   0.917031   0.082969\n",
              "8004   0.412833   0.587167\n",
              "...         ...        ...\n",
              "9995   0.917031   0.082969\n",
              "9996   0.917031   0.082969\n",
              "9997   0.917031   0.082969\n",
              "9998   0.740376   0.259624\n",
              "9999   0.740376   0.259624\n",
              "\n",
              "[2000 rows x 2 columns]"
            ],
            "text/html": [
              "\n",
              "  <div id=\"df-3b0f654b-be61-4574-8663-8fb191879406\">\n",
              "    <div class=\"colab-df-container\">\n",
              "      <div>\n",
              "<style scoped>\n",
              "    .dataframe tbody tr th:only-of-type {\n",
              "        vertical-align: middle;\n",
              "    }\n",
              "\n",
              "    .dataframe tbody tr th {\n",
              "        vertical-align: top;\n",
              "    }\n",
              "\n",
              "    .dataframe thead th {\n",
              "        text-align: right;\n",
              "    }\n",
              "</style>\n",
              "<table border=\"1\" class=\"dataframe\">\n",
              "  <thead>\n",
              "    <tr style=\"text-align: right;\">\n",
              "      <th></th>\n",
              "      <th>Outcome_0</th>\n",
              "      <th>Outcome_1</th>\n",
              "    </tr>\n",
              "  </thead>\n",
              "  <tbody>\n",
              "    <tr>\n",
              "      <th>8000</th>\n",
              "      <td>0.917031</td>\n",
              "      <td>0.082969</td>\n",
              "    </tr>\n",
              "    <tr>\n",
              "      <th>8001</th>\n",
              "      <td>0.740376</td>\n",
              "      <td>0.259624</td>\n",
              "    </tr>\n",
              "    <tr>\n",
              "      <th>8002</th>\n",
              "      <td>0.412833</td>\n",
              "      <td>0.587167</td>\n",
              "    </tr>\n",
              "    <tr>\n",
              "      <th>8003</th>\n",
              "      <td>0.917031</td>\n",
              "      <td>0.082969</td>\n",
              "    </tr>\n",
              "    <tr>\n",
              "      <th>8004</th>\n",
              "      <td>0.412833</td>\n",
              "      <td>0.587167</td>\n",
              "    </tr>\n",
              "    <tr>\n",
              "      <th>...</th>\n",
              "      <td>...</td>\n",
              "      <td>...</td>\n",
              "    </tr>\n",
              "    <tr>\n",
              "      <th>9995</th>\n",
              "      <td>0.917031</td>\n",
              "      <td>0.082969</td>\n",
              "    </tr>\n",
              "    <tr>\n",
              "      <th>9996</th>\n",
              "      <td>0.917031</td>\n",
              "      <td>0.082969</td>\n",
              "    </tr>\n",
              "    <tr>\n",
              "      <th>9997</th>\n",
              "      <td>0.917031</td>\n",
              "      <td>0.082969</td>\n",
              "    </tr>\n",
              "    <tr>\n",
              "      <th>9998</th>\n",
              "      <td>0.740376</td>\n",
              "      <td>0.259624</td>\n",
              "    </tr>\n",
              "    <tr>\n",
              "      <th>9999</th>\n",
              "      <td>0.740376</td>\n",
              "      <td>0.259624</td>\n",
              "    </tr>\n",
              "  </tbody>\n",
              "</table>\n",
              "<p>2000 rows × 2 columns</p>\n",
              "</div>\n",
              "      <button class=\"colab-df-convert\" onclick=\"convertToInteractive('df-3b0f654b-be61-4574-8663-8fb191879406')\"\n",
              "              title=\"Convert this dataframe to an interactive table.\"\n",
              "              style=\"display:none;\">\n",
              "        \n",
              "  <svg xmlns=\"http://www.w3.org/2000/svg\" height=\"24px\"viewBox=\"0 0 24 24\"\n",
              "       width=\"24px\">\n",
              "    <path d=\"M0 0h24v24H0V0z\" fill=\"none\"/>\n",
              "    <path d=\"M18.56 5.44l.94 2.06.94-2.06 2.06-.94-2.06-.94-.94-2.06-.94 2.06-2.06.94zm-11 1L8.5 8.5l.94-2.06 2.06-.94-2.06-.94L8.5 2.5l-.94 2.06-2.06.94zm10 10l.94 2.06.94-2.06 2.06-.94-2.06-.94-.94-2.06-.94 2.06-2.06.94z\"/><path d=\"M17.41 7.96l-1.37-1.37c-.4-.4-.92-.59-1.43-.59-.52 0-1.04.2-1.43.59L10.3 9.45l-7.72 7.72c-.78.78-.78 2.05 0 2.83L4 21.41c.39.39.9.59 1.41.59.51 0 1.02-.2 1.41-.59l7.78-7.78 2.81-2.81c.8-.78.8-2.07 0-2.86zM5.41 20L4 18.59l7.72-7.72 1.47 1.35L5.41 20z\"/>\n",
              "  </svg>\n",
              "      </button>\n",
              "      \n",
              "  <style>\n",
              "    .colab-df-container {\n",
              "      display:flex;\n",
              "      flex-wrap:wrap;\n",
              "      gap: 12px;\n",
              "    }\n",
              "\n",
              "    .colab-df-convert {\n",
              "      background-color: #E8F0FE;\n",
              "      border: none;\n",
              "      border-radius: 50%;\n",
              "      cursor: pointer;\n",
              "      display: none;\n",
              "      fill: #1967D2;\n",
              "      height: 32px;\n",
              "      padding: 0 0 0 0;\n",
              "      width: 32px;\n",
              "    }\n",
              "\n",
              "    .colab-df-convert:hover {\n",
              "      background-color: #E2EBFA;\n",
              "      box-shadow: 0px 1px 2px rgba(60, 64, 67, 0.3), 0px 1px 3px 1px rgba(60, 64, 67, 0.15);\n",
              "      fill: #174EA6;\n",
              "    }\n",
              "\n",
              "    [theme=dark] .colab-df-convert {\n",
              "      background-color: #3B4455;\n",
              "      fill: #D2E3FC;\n",
              "    }\n",
              "\n",
              "    [theme=dark] .colab-df-convert:hover {\n",
              "      background-color: #434B5C;\n",
              "      box-shadow: 0px 1px 3px 1px rgba(0, 0, 0, 0.15);\n",
              "      filter: drop-shadow(0px 1px 2px rgba(0, 0, 0, 0.3));\n",
              "      fill: #FFFFFF;\n",
              "    }\n",
              "  </style>\n",
              "\n",
              "      <script>\n",
              "        const buttonEl =\n",
              "          document.querySelector('#df-3b0f654b-be61-4574-8663-8fb191879406 button.colab-df-convert');\n",
              "        buttonEl.style.display =\n",
              "          google.colab.kernel.accessAllowed ? 'block' : 'none';\n",
              "\n",
              "        async function convertToInteractive(key) {\n",
              "          const element = document.querySelector('#df-3b0f654b-be61-4574-8663-8fb191879406');\n",
              "          const dataTable =\n",
              "            await google.colab.kernel.invokeFunction('convertToInteractive',\n",
              "                                                     [key], {});\n",
              "          if (!dataTable) return;\n",
              "\n",
              "          const docLinkHtml = 'Like what you see? Visit the ' +\n",
              "            '<a target=\"_blank\" href=https://colab.research.google.com/notebooks/data_table.ipynb>data table notebook</a>'\n",
              "            + ' to learn more about interactive tables.';\n",
              "          element.innerHTML = '';\n",
              "          dataTable['output_type'] = 'display_data';\n",
              "          await google.colab.output.renderOutput(dataTable, element);\n",
              "          const docLink = document.createElement('div');\n",
              "          docLink.innerHTML = docLinkHtml;\n",
              "          element.appendChild(docLink);\n",
              "        }\n",
              "      </script>\n",
              "    </div>\n",
              "  </div>\n",
              "  "
            ]
          },
          "metadata": {},
          "execution_count": 60
        }
      ]
    },
    {
      "cell_type": "code",
      "source": [
        "Class_pred=[1 if y_prob['Outcome_0'][i]<0.5 else 0 for i in range(8000,10000)]"
      ],
      "metadata": {
        "id": "I0gn2CWqf_wW"
      },
      "execution_count": null,
      "outputs": []
    },
    {
      "cell_type": "code",
      "source": [
        "def acc(Class_pred,Trueclass):\n",
        "  n=len(Trueclass)\n",
        "  tp=0\n",
        "  tn=0\n",
        "  fp=0\n",
        "  fn=0\n",
        "  for i in range(len(Trueclass)):\n",
        "    if Class_pred[i]==Trueclass[i]:\n",
        "      if Class_pred[i] == 1:\n",
        "        tp+=1\n",
        "      else:\n",
        "        tn+=1\n",
        "    else:\n",
        "      if(Trueclass[i] == 0):\n",
        "        fp+=1\n",
        "      else:\n",
        "        fn+=1\n",
        "\n",
        "  precision = (tp/(tp+fp))\n",
        "  recall = (tp/(tp+fn))\n",
        "  output=[]\n",
        "  print(f\"The accuracy is {((tp+tn)/n)*100}\")\n",
        "  output.append(((tp+tn)/n)*100)\n",
        "  print(f\"The precision is {precision}\")\n",
        "  output.append(precision)\n",
        "  print(f\"The recall is {recall}\")\n",
        "  output.append(recall)\n",
        "  print(f\"The f1-score is {2*(precision*recall)/(precision+recall)}\")\n",
        "  output.append(2*(precision*recall)/(precision+recall))\n",
        "  return output"
      ],
      "metadata": {
        "id": "MubEhY7rf_wW"
      },
      "execution_count": null,
      "outputs": []
    },
    {
      "cell_type": "code",
      "source": [
        "dfn=df_data[8000:]\n",
        "dfn.reset_index(inplace=True)"
      ],
      "metadata": {
        "id": "mAzBukd4f_wW"
      },
      "execution_count": null,
      "outputs": []
    },
    {
      "cell_type": "code",
      "source": [
        "print(len(Class_pred))\n",
        "print(len(dfn))"
      ],
      "metadata": {
        "colab": {
          "base_uri": "https://localhost:8080/"
        },
        "outputId": "6a5289a7-3d99-4f63-eb40-f831b95ebfe1",
        "id": "CH6326u7f_wW"
      },
      "execution_count": null,
      "outputs": [
        {
          "output_type": "stream",
          "name": "stdout",
          "text": [
            "2000\n",
            "2000\n"
          ]
        }
      ]
    },
    {
      "cell_type": "code",
      "source": [
        "output_chowliu1=acc(Class_pred,dfn[\"Outcome\"])"
      ],
      "metadata": {
        "colab": {
          "base_uri": "https://localhost:8080/"
        },
        "outputId": "8d00ada8-14c0-428e-8ee8-190ca2d7bc66",
        "id": "3g4IJKzqf_wW"
      },
      "execution_count": null,
      "outputs": [
        {
          "output_type": "stream",
          "name": "stdout",
          "text": [
            "The accuracy is 72.75\n",
            "The precision is 0.5814814814814815\n",
            "The recall is 0.6957163958641064\n",
            "The f1-score is 0.6334902488231339\n"
          ]
        }
      ]
    },
    {
      "cell_type": "markdown",
      "source": [
        "##Ped Function as root"
      ],
      "metadata": {
        "id": "-oGxVBwbgaTV"
      }
    },
    {
      "cell_type": "code",
      "source": [
        "from pgmpy.estimators import TreeSearch\n",
        "\n",
        "# learn graph structure\n",
        "est = TreeSearch(df_data, root_node=\"DiabetesPedigreeFunction\")\n",
        "dag = est.estimate(estimator_type=\"chow-liu\")\n",
        "nx.draw_circular(dag, with_labels=True, arrowsize=30, node_size=800, alpha=0.3, font_weight=\"bold\")\n",
        "plt.show()"
      ],
      "metadata": {
        "id": "i5q5HkT8ype-",
        "colab": {
          "base_uri": "https://localhost:8080/",
          "height": 351,
          "referenced_widgets": [
            "c1f4f061ed53411b9a8fe59b878aa698",
            "234b2434d198489ebcf0a83bec6460c1",
            "ba453f7a864343f189e8dac72ced374a",
            "2ba9f01d1d724a72b507419c90911865",
            "7bdb312e28c64e6c8fca0809952d97d4",
            "d60e77c613dc42e7ad644b15cf9af364",
            "25243208fc284535a66afa74c75f45a0",
            "878fb24b737543509e1313ae1eb604b8",
            "b6d914a708c4402d8b02b729db57ce27",
            "856a4f3d1c304d46ae1f2a2723dcb71c",
            "b80115847dd74004886b0d408523d219"
          ]
        },
        "outputId": "d04992b2-dc28-45e2-fed0-499597953dd4"
      },
      "execution_count": null,
      "outputs": [
        {
          "output_type": "display_data",
          "data": {
            "text/plain": [
              "Building tree:   0%|          | 0/36.0 [00:00<?, ?it/s]"
            ],
            "application/vnd.jupyter.widget-view+json": {
              "version_major": 2,
              "version_minor": 0,
              "model_id": "c1f4f061ed53411b9a8fe59b878aa698"
            }
          },
          "metadata": {}
        },
        {
          "output_type": "display_data",
          "data": {
            "text/plain": [
              "<Figure size 432x288 with 1 Axes>"
            ],
            "image/png": "[encoded data removed]"
          },
          "metadata": {}
        }
      ]
    },
    {
      "cell_type": "code",
      "source": [
        "from pgmpy.estimators import BayesianEstimator\n",
        "model2 = BayesianNetwork(dag.edges())\n",
        "model2.fit(df_data, estimator=BayesianEstimator, prior_type=\"dirichlet\", pseudo_counts=0.1)\n",
        "model2.get_cpds()"
      ],
      "metadata": {
        "id": "aGscxrizzmAX",
        "colab": {
          "base_uri": "https://localhost:8080/"
        },
        "outputId": "988d057a-8d96-429e-d92d-ab53d5d7fccf"
      },
      "execution_count": null,
      "outputs": [
        {
          "output_type": "execute_result",
          "data": {
            "text/plain": [
              "[<TabularCPD representing P(DiabetesPedigreeFunction:2) at 0x7f667c04f9a0>,\n",
              " <TabularCPD representing P(Insulin:2 | DiabetesPedigreeFunction:2) at 0x7f667c0bd910>,\n",
              " <TabularCPD representing P(Age:3 | Insulin:2) at 0x7f6700d06b20>,\n",
              " <TabularCPD representing P(Pregnancies:3 | Age:3) at 0x7f667c05a880>,\n",
              " <TabularCPD representing P(SkinThickness:3 | Age:3) at 0x7f667c048b20>,\n",
              " <TabularCPD representing P(BMI:2 | SkinThickness:3) at 0x7f667c0bddf0>,\n",
              " <TabularCPD representing P(BloodPressure:2 | BMI:2) at 0x7f667c04f970>,\n",
              " <TabularCPD representing P(Glucose:3 | BloodPressure:2) at 0x7f667c0bdb50>,\n",
              " <TabularCPD representing P(Outcome:2 | Glucose:3) at 0x7f6684789520>]"
            ]
          },
          "metadata": {},
          "execution_count": 67
        }
      ]
    },
    {
      "cell_type": "code",
      "source": [
        "print(model2.get_cpds()[0])"
      ],
      "metadata": {
        "id": "wuW4E01Izx21",
        "colab": {
          "base_uri": "https://localhost:8080/"
        },
        "outputId": "ee56df06-794e-4c25-92b6-aea86f2b795d"
      },
      "execution_count": null,
      "outputs": [
        {
          "output_type": "stream",
          "name": "stdout",
          "text": [
            "+-----------------------------+-------+\n",
            "| DiabetesPedigreeFunction(0) | 0.496 |\n",
            "+-----------------------------+-------+\n",
            "| DiabetesPedigreeFunction(1) | 0.504 |\n",
            "+-----------------------------+-------+\n"
          ]
        }
      ]
    },
    {
      "cell_type": "code",
      "source": [
        "for i in model2.get_cpds():\n",
        "  print(i)"
      ],
      "metadata": {
        "id": "zw35EcKv6ezz",
        "colab": {
          "base_uri": "https://localhost:8080/"
        },
        "outputId": "b41f78f9-9086-445d-eeb9-887c78e4d8fc"
      },
      "execution_count": null,
      "outputs": [
        {
          "output_type": "stream",
          "name": "stdout",
          "text": [
            "+-----------------------------+-------+\n",
            "| DiabetesPedigreeFunction(0) | 0.496 |\n",
            "+-----------------------------+-------+\n",
            "| DiabetesPedigreeFunction(1) | 0.504 |\n",
            "+-----------------------------+-------+\n",
            "+--------------------------+-----+-----------------------------+\n",
            "| DiabetesPedigreeFunction | ... | DiabetesPedigreeFunction(1) |\n",
            "+--------------------------+-----+-----------------------------+\n",
            "| Insulin(0)               | ... | 0.4230189278203246          |\n",
            "+--------------------------+-----+-----------------------------+\n",
            "| Insulin(1)               | ... | 0.5769810721796754          |\n",
            "+--------------------------+-----+-----------------------------+\n",
            "+---------+---------------------+---------------------+\n",
            "| Insulin | Insulin(0)          | Insulin(1)          |\n",
            "+---------+---------------------+---------------------+\n",
            "| Age(0)  | 0.3019978843582221  | 0.48716510029457144 |\n",
            "+---------+---------------------+---------------------+\n",
            "| Age(1)  | 0.34730455262159954 | 0.32384826563533253 |\n",
            "+---------+---------------------+---------------------+\n",
            "| Age(2)  | 0.35069756302017846 | 0.18898663407009597 |\n",
            "+---------+---------------------+---------------------+\n",
            "+----------------+-----+---------------------+\n",
            "| Age            | ... | Age(2)              |\n",
            "+----------------+-----+---------------------+\n",
            "| Pregnancies(0) | ... | 0.11706106728881976 |\n",
            "+----------------+-----+---------------------+\n",
            "| Pregnancies(1) | ... | 0.11520942117542496 |\n",
            "+----------------+-----+---------------------+\n",
            "| Pregnancies(2) | ... | 0.7677295115357552  |\n",
            "+----------------+-----+---------------------+\n",
            "+------------------+-----+---------------------+\n",
            "| Age              | ... | Age(2)              |\n",
            "+------------------+-----+---------------------+\n",
            "| SkinThickness(0) | ... | 0.4536903307039959  |\n",
            "+------------------+-----+---------------------+\n",
            "| SkinThickness(1) | ... | 0.22704884642447137 |\n",
            "+------------------+-----+---------------------+\n",
            "| SkinThickness(2) | ... | 0.31926082287153285 |\n",
            "+------------------+-----+---------------------+\n",
            "+---------------+-----+---------------------+\n",
            "| SkinThickness | ... | SkinThickness(2)    |\n",
            "+---------------+-----+---------------------+\n",
            "| BMI(0)        | ... | 0.22370036839950883 |\n",
            "+---------------+-----+---------------------+\n",
            "| BMI(1)        | ... | 0.7762996316004912  |\n",
            "+---------------+-----+---------------------+\n",
            "+------------------+--------------------+--------------------+\n",
            "| BMI              | BMI(0)             | BMI(1)             |\n",
            "+------------------+--------------------+--------------------+\n",
            "| BloodPressure(0) | 0.6137511656823127 | 0.4654866891947581 |\n",
            "+------------------+--------------------+--------------------+\n",
            "| BloodPressure(1) | 0.3862488343176873 | 0.5345133108052419 |\n",
            "+------------------+--------------------+--------------------+\n",
            "+---------------+---------------------+--------------------+\n",
            "| BloodPressure | BloodPressure(0)    | BloodPressure(1)   |\n",
            "+---------------+---------------------+--------------------+\n",
            "| Glucose(0)    | 0.31727663658343025 | 0.1746066385876089 |\n",
            "+---------------+---------------------+--------------------+\n",
            "| Glucose(1)    | 0.3552959415314767  | 0.3112192567051481 |\n",
            "+---------------+---------------------+--------------------+\n",
            "| Glucose(2)    | 0.32742742188509316 | 0.5141741047072431 |\n",
            "+---------------+---------------------+--------------------+\n",
            "+------------+---------------------+---------------------+--------------------+\n",
            "| Glucose    | Glucose(0)          | Glucose(1)          | Glucose(2)         |\n",
            "+------------+---------------------+---------------------+--------------------+\n",
            "| Outcome(0) | 0.9169974595109559  | 0.7403616614943901  | 0.4128371507433054 |\n",
            "+------------+---------------------+---------------------+--------------------+\n",
            "| Outcome(1) | 0.08300254048904414 | 0.25963833850560997 | 0.5871628492566946 |\n",
            "+------------+---------------------+---------------------+--------------------+\n"
          ]
        }
      ]
    },
    {
      "cell_type": "code",
      "source": [
        "import numpy as np\n",
        "import pandas as pd\n",
        "from pgmpy.models import BayesianNetwork\n",
        "train_data = df_data[:8000]\n",
        "predict_data = df_data[8000:]\n",
        "model2.fit(df_data)\n",
        "predict_data = predict_data.copy()\n",
        "predict_data.drop('Outcome', axis=1, inplace=True)\n",
        "y_prob = model2.predict_probability(predict_data)"
      ],
      "metadata": {
        "id": "c8Cj6nu_Etv8"
      },
      "execution_count": null,
      "outputs": []
    },
    {
      "cell_type": "code",
      "source": [
        "y_prob"
      ],
      "metadata": {
        "id": "TXMl_dmGEtv9",
        "colab": {
          "base_uri": "https://localhost:8080/",
          "height": 424
        },
        "outputId": "c6461c5b-2fed-487a-9fd6-0564fd134582"
      },
      "execution_count": null,
      "outputs": [
        {
          "output_type": "execute_result",
          "data": {
            "text/plain": [
              "      Outcome_0  Outcome_1\n",
              "8000   0.917031   0.082969\n",
              "8001   0.740376   0.259624\n",
              "8002   0.412833   0.587167\n",
              "8003   0.917031   0.082969\n",
              "8004   0.412833   0.587167\n",
              "...         ...        ...\n",
              "9995   0.917031   0.082969\n",
              "9996   0.917031   0.082969\n",
              "9997   0.917031   0.082969\n",
              "9998   0.740376   0.259624\n",
              "9999   0.740376   0.259624\n",
              "\n",
              "[2000 rows x 2 columns]"
            ],
            "text/html": [
              "\n",
              "  <div id=\"df-d0b97a7a-b12b-46f1-bece-ffa3c4596e8f\">\n",
              "    <div class=\"colab-df-container\">\n",
              "      <div>\n",
              "<style scoped>\n",
              "    .dataframe tbody tr th:only-of-type {\n",
              "        vertical-align: middle;\n",
              "    }\n",
              "\n",
              "    .dataframe tbody tr th {\n",
              "        vertical-align: top;\n",
              "    }\n",
              "\n",
              "    .dataframe thead th {\n",
              "        text-align: right;\n",
              "    }\n",
              "</style>\n",
              "<table border=\"1\" class=\"dataframe\">\n",
              "  <thead>\n",
              "    <tr style=\"text-align: right;\">\n",
              "      <th></th>\n",
              "      <th>Outcome_0</th>\n",
              "      <th>Outcome_1</th>\n",
              "    </tr>\n",
              "  </thead>\n",
              "  <tbody>\n",
              "    <tr>\n",
              "      <th>8000</th>\n",
              "      <td>0.917031</td>\n",
              "      <td>0.082969</td>\n",
              "    </tr>\n",
              "    <tr>\n",
              "      <th>8001</th>\n",
              "      <td>0.740376</td>\n",
              "      <td>0.259624</td>\n",
              "    </tr>\n",
              "    <tr>\n",
              "      <th>8002</th>\n",
              "      <td>0.412833</td>\n",
              "      <td>0.587167</td>\n",
              "    </tr>\n",
              "    <tr>\n",
              "      <th>8003</th>\n",
              "      <td>0.917031</td>\n",
              "      <td>0.082969</td>\n",
              "    </tr>\n",
              "    <tr>\n",
              "      <th>8004</th>\n",
              "      <td>0.412833</td>\n",
              "      <td>0.587167</td>\n",
              "    </tr>\n",
              "    <tr>\n",
              "      <th>...</th>\n",
              "      <td>...</td>\n",
              "      <td>...</td>\n",
              "    </tr>\n",
              "    <tr>\n",
              "      <th>9995</th>\n",
              "      <td>0.917031</td>\n",
              "      <td>0.082969</td>\n",
              "    </tr>\n",
              "    <tr>\n",
              "      <th>9996</th>\n",
              "      <td>0.917031</td>\n",
              "      <td>0.082969</td>\n",
              "    </tr>\n",
              "    <tr>\n",
              "      <th>9997</th>\n",
              "      <td>0.917031</td>\n",
              "      <td>0.082969</td>\n",
              "    </tr>\n",
              "    <tr>\n",
              "      <th>9998</th>\n",
              "      <td>0.740376</td>\n",
              "      <td>0.259624</td>\n",
              "    </tr>\n",
              "    <tr>\n",
              "      <th>9999</th>\n",
              "      <td>0.740376</td>\n",
              "      <td>0.259624</td>\n",
              "    </tr>\n",
              "  </tbody>\n",
              "</table>\n",
              "<p>2000 rows × 2 columns</p>\n",
              "</div>\n",
              "      <button class=\"colab-df-convert\" onclick=\"convertToInteractive('df-d0b97a7a-b12b-46f1-bece-ffa3c4596e8f')\"\n",
              "              title=\"Convert this dataframe to an interactive table.\"\n",
              "              style=\"display:none;\">\n",
              "        \n",
              "  <svg xmlns=\"http://www.w3.org/2000/svg\" height=\"24px\"viewBox=\"0 0 24 24\"\n",
              "       width=\"24px\">\n",
              "    <path d=\"M0 0h24v24H0V0z\" fill=\"none\"/>\n",
              "    <path d=\"M18.56 5.44l.94 2.06.94-2.06 2.06-.94-2.06-.94-.94-2.06-.94 2.06-2.06.94zm-11 1L8.5 8.5l.94-2.06 2.06-.94-2.06-.94L8.5 2.5l-.94 2.06-2.06.94zm10 10l.94 2.06.94-2.06 2.06-.94-2.06-.94-.94-2.06-.94 2.06-2.06.94z\"/><path d=\"M17.41 7.96l-1.37-1.37c-.4-.4-.92-.59-1.43-.59-.52 0-1.04.2-1.43.59L10.3 9.45l-7.72 7.72c-.78.78-.78 2.05 0 2.83L4 21.41c.39.39.9.59 1.41.59.51 0 1.02-.2 1.41-.59l7.78-7.78 2.81-2.81c.8-.78.8-2.07 0-2.86zM5.41 20L4 18.59l7.72-7.72 1.47 1.35L5.41 20z\"/>\n",
              "  </svg>\n",
              "      </button>\n",
              "      \n",
              "  <style>\n",
              "    .colab-df-container {\n",
              "      display:flex;\n",
              "      flex-wrap:wrap;\n",
              "      gap: 12px;\n",
              "    }\n",
              "\n",
              "    .colab-df-convert {\n",
              "      background-color: #E8F0FE;\n",
              "      border: none;\n",
              "      border-radius: 50%;\n",
              "      cursor: pointer;\n",
              "      display: none;\n",
              "      fill: #1967D2;\n",
              "      height: 32px;\n",
              "      padding: 0 0 0 0;\n",
              "      width: 32px;\n",
              "    }\n",
              "\n",
              "    .colab-df-convert:hover {\n",
              "      background-color: #E2EBFA;\n",
              "      box-shadow: 0px 1px 2px rgba(60, 64, 67, 0.3), 0px 1px 3px 1px rgba(60, 64, 67, 0.15);\n",
              "      fill: #174EA6;\n",
              "    }\n",
              "\n",
              "    [theme=dark] .colab-df-convert {\n",
              "      background-color: #3B4455;\n",
              "      fill: #D2E3FC;\n",
              "    }\n",
              "\n",
              "    [theme=dark] .colab-df-convert:hover {\n",
              "      background-color: #434B5C;\n",
              "      box-shadow: 0px 1px 3px 1px rgba(0, 0, 0, 0.15);\n",
              "      filter: drop-shadow(0px 1px 2px rgba(0, 0, 0, 0.3));\n",
              "      fill: #FFFFFF;\n",
              "    }\n",
              "  </style>\n",
              "\n",
              "      <script>\n",
              "        const buttonEl =\n",
              "          document.querySelector('#df-d0b97a7a-b12b-46f1-bece-ffa3c4596e8f button.colab-df-convert');\n",
              "        buttonEl.style.display =\n",
              "          google.colab.kernel.accessAllowed ? 'block' : 'none';\n",
              "\n",
              "        async function convertToInteractive(key) {\n",
              "          const element = document.querySelector('#df-d0b97a7a-b12b-46f1-bece-ffa3c4596e8f');\n",
              "          const dataTable =\n",
              "            await google.colab.kernel.invokeFunction('convertToInteractive',\n",
              "                                                     [key], {});\n",
              "          if (!dataTable) return;\n",
              "\n",
              "          const docLinkHtml = 'Like what you see? Visit the ' +\n",
              "            '<a target=\"_blank\" href=https://colab.research.google.com/notebooks/data_table.ipynb>data table notebook</a>'\n",
              "            + ' to learn more about interactive tables.';\n",
              "          element.innerHTML = '';\n",
              "          dataTable['output_type'] = 'display_data';\n",
              "          await google.colab.output.renderOutput(dataTable, element);\n",
              "          const docLink = document.createElement('div');\n",
              "          docLink.innerHTML = docLinkHtml;\n",
              "          element.appendChild(docLink);\n",
              "        }\n",
              "      </script>\n",
              "    </div>\n",
              "  </div>\n",
              "  "
            ]
          },
          "metadata": {},
          "execution_count": 71
        }
      ]
    },
    {
      "cell_type": "code",
      "source": [
        "Class_pred=[1 if y_prob['Outcome_0'][i]<0.5 else 0 for i in range(8000,10000)]"
      ],
      "metadata": {
        "id": "g6LBRiDGEtv_"
      },
      "execution_count": null,
      "outputs": []
    },
    {
      "cell_type": "code",
      "source": [
        "def acc(Class_pred,Trueclass):\n",
        "  n=len(Trueclass)\n",
        "  tp=0\n",
        "  tn=0\n",
        "  fp=0\n",
        "  fn=0\n",
        "  for i in range(len(Trueclass)):\n",
        "    if Class_pred[i]==Trueclass[i]:\n",
        "      if Class_pred[i] == 1:\n",
        "        tp+=1\n",
        "      else:\n",
        "        tn+=1\n",
        "    else:\n",
        "      if(Trueclass[i] == 0):\n",
        "        fp+=1\n",
        "      else:\n",
        "        fn+=1\n",
        "\n",
        "  precision = (tp/(tp+fp))\n",
        "  recall = (tp/(tp+fn))\n",
        "  output=[]\n",
        "  print(f\"The accuracy is {((tp+tn)/n)*100}\")\n",
        "  output.append(((tp+tn)/n)*100)\n",
        "  print(f\"The precision is {precision}\")\n",
        "  output.append(precision)\n",
        "  print(f\"The recall is {recall}\")\n",
        "  output.append(recall)\n",
        "  print(f\"The f1-score is {2*(precision*recall)/(precision+recall)}\")\n",
        "  output.append(2*(precision*recall)/(precision+recall))\n",
        "  return output"
      ],
      "metadata": {
        "id": "D6pXR9huEtwA"
      },
      "execution_count": null,
      "outputs": []
    },
    {
      "cell_type": "code",
      "source": [
        "dfn=df_data[8000:]\n",
        "dfn.reset_index(inplace=True)"
      ],
      "metadata": {
        "id": "PznnuH8MEtwA"
      },
      "execution_count": null,
      "outputs": []
    },
    {
      "cell_type": "code",
      "source": [
        "print(len(Class_pred))\n",
        "print(len(dfn))"
      ],
      "metadata": {
        "id": "U_pP1eSOEtwB",
        "colab": {
          "base_uri": "https://localhost:8080/"
        },
        "outputId": "b378854e-507e-423a-ad61-d1d613069ca2"
      },
      "execution_count": null,
      "outputs": [
        {
          "output_type": "stream",
          "name": "stdout",
          "text": [
            "2000\n",
            "2000\n"
          ]
        }
      ]
    },
    {
      "cell_type": "code",
      "source": [
        "output_chowliu2=acc(Class_pred,dfn[\"Outcome\"])"
      ],
      "metadata": {
        "id": "LONefcKnEtwB",
        "colab": {
          "base_uri": "https://localhost:8080/"
        },
        "outputId": "b5a39d39-11a2-4300-b5d5-8346ec9418ca"
      },
      "execution_count": null,
      "outputs": [
        {
          "output_type": "stream",
          "name": "stdout",
          "text": [
            "The accuracy is 72.75\n",
            "The precision is 0.5814814814814815\n",
            "The recall is 0.6957163958641064\n",
            "The f1-score is 0.6334902488231339\n"
          ]
        }
      ]
    },
    {
      "cell_type": "markdown",
      "source": [
        "##Comparision of Output"
      ],
      "metadata": {
        "id": "vGgAXoWiPEwD"
      }
    },
    {
      "cell_type": "code",
      "source": [
        "columns=[\"Accuracy\",\"Presision\",\"Recall\",\"F1-Score\"]\n",
        "models=[output_bayesian,output_chowliu1, output_NB]\n",
        "index=[\"Bayesian\",\"Chow-Liu\",\"NaiveBayes\"]\n",
        "comp_matrix = pd.DataFrame(models,columns=columns,index=index)\n",
        "comp_matrix"
      ],
      "metadata": {
        "id": "WAZ5ZsHvFuC-",
        "colab": {
          "base_uri": "https://localhost:8080/",
          "height": 143
        },
        "outputId": "6488c53c-62c2-4f74-d7c2-c7a190618eea"
      },
      "execution_count": null,
      "outputs": [
        {
          "output_type": "execute_result",
          "data": {
            "text/plain": [
              "             Accuracy  Presision    Recall  F1-Score\n",
              "Bayesian    74.728261   0.579310  0.724138  0.643678\n",
              "Chow-Liu    72.750000   0.581481  0.695716  0.633490\n",
              "NaiveBayes  72.727273   0.614035  0.636364  0.625000"
            ],
            "text/html": [
              "\n",
              "  <div id=\"df-5db441e0-d9f3-40e6-ae53-321767c2a11e\">\n",
              "    <div class=\"colab-df-container\">\n",
              "      <div>\n",
              "<style scoped>\n",
              "    .dataframe tbody tr th:only-of-type {\n",
              "        vertical-align: middle;\n",
              "    }\n",
              "\n",
              "    .dataframe tbody tr th {\n",
              "        vertical-align: top;\n",
              "    }\n",
              "\n",
              "    .dataframe thead th {\n",
              "        text-align: right;\n",
              "    }\n",
              "</style>\n",
              "<table border=\"1\" class=\"dataframe\">\n",
              "  <thead>\n",
              "    <tr style=\"text-align: right;\">\n",
              "      <th></th>\n",
              "      <th>Accuracy</th>\n",
              "      <th>Presision</th>\n",
              "      <th>Recall</th>\n",
              "      <th>F1-Score</th>\n",
              "    </tr>\n",
              "  </thead>\n",
              "  <tbody>\n",
              "    <tr>\n",
              "      <th>Bayesian</th>\n",
              "      <td>74.728261</td>\n",
              "      <td>0.579310</td>\n",
              "      <td>0.724138</td>\n",
              "      <td>0.643678</td>\n",
              "    </tr>\n",
              "    <tr>\n",
              "      <th>Chow-Liu</th>\n",
              "      <td>72.750000</td>\n",
              "      <td>0.581481</td>\n",
              "      <td>0.695716</td>\n",
              "      <td>0.633490</td>\n",
              "    </tr>\n",
              "    <tr>\n",
              "      <th>NaiveBayes</th>\n",
              "      <td>72.727273</td>\n",
              "      <td>0.614035</td>\n",
              "      <td>0.636364</td>\n",
              "      <td>0.625000</td>\n",
              "    </tr>\n",
              "  </tbody>\n",
              "</table>\n",
              "</div>\n",
              "      <button class=\"colab-df-convert\" onclick=\"convertToInteractive('df-5db441e0-d9f3-40e6-ae53-321767c2a11e')\"\n",
              "              title=\"Convert this dataframe to an interactive table.\"\n",
              "              style=\"display:none;\">\n",
              "        \n",
              "  <svg xmlns=\"http://www.w3.org/2000/svg\" height=\"24px\"viewBox=\"0 0 24 24\"\n",
              "       width=\"24px\">\n",
              "    <path d=\"M0 0h24v24H0V0z\" fill=\"none\"/>\n",
              "    <path d=\"M18.56 5.44l.94 2.06.94-2.06 2.06-.94-2.06-.94-.94-2.06-.94 2.06-2.06.94zm-11 1L8.5 8.5l.94-2.06 2.06-.94-2.06-.94L8.5 2.5l-.94 2.06-2.06.94zm10 10l.94 2.06.94-2.06 2.06-.94-2.06-.94-.94-2.06-.94 2.06-2.06.94z\"/><path d=\"M17.41 7.96l-1.37-1.37c-.4-.4-.92-.59-1.43-.59-.52 0-1.04.2-1.43.59L10.3 9.45l-7.72 7.72c-.78.78-.78 2.05 0 2.83L4 21.41c.39.39.9.59 1.41.59.51 0 1.02-.2 1.41-.59l7.78-7.78 2.81-2.81c.8-.78.8-2.07 0-2.86zM5.41 20L4 18.59l7.72-7.72 1.47 1.35L5.41 20z\"/>\n",
              "  </svg>\n",
              "      </button>\n",
              "      \n",
              "  <style>\n",
              "    .colab-df-container {\n",
              "      display:flex;\n",
              "      flex-wrap:wrap;\n",
              "      gap: 12px;\n",
              "    }\n",
              "\n",
              "    .colab-df-convert {\n",
              "      background-color: #E8F0FE;\n",
              "      border: none;\n",
              "      border-radius: 50%;\n",
              "      cursor: pointer;\n",
              "      display: none;\n",
              "      fill: #1967D2;\n",
              "      height: 32px;\n",
              "      padding: 0 0 0 0;\n",
              "      width: 32px;\n",
              "    }\n",
              "\n",
              "    .colab-df-convert:hover {\n",
              "      background-color: #E2EBFA;\n",
              "      box-shadow: 0px 1px 2px rgba(60, 64, 67, 0.3), 0px 1px 3px 1px rgba(60, 64, 67, 0.15);\n",
              "      fill: #174EA6;\n",
              "    }\n",
              "\n",
              "    [theme=dark] .colab-df-convert {\n",
              "      background-color: #3B4455;\n",
              "      fill: #D2E3FC;\n",
              "    }\n",
              "\n",
              "    [theme=dark] .colab-df-convert:hover {\n",
              "      background-color: #434B5C;\n",
              "      box-shadow: 0px 1px 3px 1px rgba(0, 0, 0, 0.15);\n",
              "      filter: drop-shadow(0px 1px 2px rgba(0, 0, 0, 0.3));\n",
              "      fill: #FFFFFF;\n",
              "    }\n",
              "  </style>\n",
              "\n",
              "      <script>\n",
              "        const buttonEl =\n",
              "          document.querySelector('#df-5db441e0-d9f3-40e6-ae53-321767c2a11e button.colab-df-convert');\n",
              "        buttonEl.style.display =\n",
              "          google.colab.kernel.accessAllowed ? 'block' : 'none';\n",
              "\n",
              "        async function convertToInteractive(key) {\n",
              "          const element = document.querySelector('#df-5db441e0-d9f3-40e6-ae53-321767c2a11e');\n",
              "          const dataTable =\n",
              "            await google.colab.kernel.invokeFunction('convertToInteractive',\n",
              "                                                     [key], {});\n",
              "          if (!dataTable) return;\n",
              "\n",
              "          const docLinkHtml = 'Like what you see? Visit the ' +\n",
              "            '<a target=\"_blank\" href=https://colab.research.google.com/notebooks/data_table.ipynb>data table notebook</a>'\n",
              "            + ' to learn more about interactive tables.';\n",
              "          element.innerHTML = '';\n",
              "          dataTable['output_type'] = 'display_data';\n",
              "          await google.colab.output.renderOutput(dataTable, element);\n",
              "          const docLink = document.createElement('div');\n",
              "          docLink.innerHTML = docLinkHtml;\n",
              "          element.appendChild(docLink);\n",
              "        }\n",
              "      </script>\n",
              "    </div>\n",
              "  </div>\n",
              "  "
            ]
          },
          "metadata": {},
          "execution_count": 77
        }
      ]
    },
    {
      "cell_type": "code",
      "source": [],
      "metadata": {
        "id": "IDGr1-XbfY3F"
      },
      "execution_count": null,
      "outputs": []
    }
  ]
}